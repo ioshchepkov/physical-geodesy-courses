{
 "cells": [
  {
   "cell_type": "markdown",
   "metadata": {},
   "source": [
    "# 3. Полиномы и присоединённые функции Лежандра\n",
    "\n",
    "Автор: [Илья Ощепков](https://thegeodesy.com/)\n",
    "\n",
    "В этой части мы активно будем пользоваться средствами языка Python, поэтому сразу делаем необходимые импорты."
   ]
  },
  {
   "cell_type": "code",
   "execution_count": 1,
   "metadata": {},
   "outputs": [],
   "source": [
    "import copy\n",
    "import numpy as np\n",
    "from scipy import special\n",
    "import matplotlib.pylab as plt\n",
    "\n",
    "import matplotlib as mpl\n",
    "mpl.rcParams['text.usetex']=True\n",
    "mpl.rc('xtick', labelsize=14) \n",
    "mpl.rc('ytick', labelsize=14)\n",
    "\n",
    "from sympy import *\n",
    "init_printing()"
   ]
  },
  {
   "cell_type": "markdown",
   "metadata": {},
   "source": [
    "Мы будем рассматривать присоединённое уравнение Лежандра\n",
    "\n",
    "\\begin{equation}\n",
    "\\label{eq:assoc-legendre}\\tag{1}\n",
    "\\left( 1 - t^2 \\right) \\dfrac{d^2 P_n^m (t)}{dt^2} - 2 t \\dfrac{d P_n^m (t)}{dt} + \n",
    "\\left[ n (n + 1) - \\dfrac{m^2}{1 - t^2} \\right] P_n^m (t) = 0, \\quad -1 \\leq t \\leq 1,\n",
    "\\end{equation}\n",
    "\n",
    "решением которого служат присоединённые функции Лежандра $P_n^m (t)$. Напоминаю, что $n$ здесь обозначает степень, а $m$ - порядок, причём $0 \\leq m \\leq n$.\n",
    "\n",
    "## Полиномы Лежандра\n",
    "\n",
    "При $m = 0$ уравнение \\eqref{eq:assoc-legendre} принимает вид\n",
    "\n",
    "$$\n",
    "\\left( 1 - t^2 \\right) \\dfrac{d^2 P_n (t)}{dt^2} - \n",
    "2 t \\dfrac{d P_n (t)}{dt} + \n",
    "n (n + 1)  P_n (t) = 0\n",
    "$$\n",
    "\n",
    "и называется дифференциальным **уравнением Лежандра** (уже не присоединённым). Покажем для полноты изложения, что полиномы\n",
    "\n",
    "$$\n",
    "\\begin{equation}\n",
    "\\label{eq:rodrigues}\\tag{2}\n",
    "P_n (t) = \\dfrac{1}{2^n n!}\\dfrac{d^n}{d t^n} (t^2 - 1)^n,\\quad n = 0,1...,\n",
    "\\end{equation}\n",
    "$$\n",
    "\n",
    "называемые **полиномами (или многочленами) Лежандра**, удовлетворяют этому уравнению, то есть являются его решением. \n",
    "Равенство \\eqref{eq:rodrigues} называется **формулой Родрига**.\n",
    "\n",
    "Действительно, рассмотрим функцию вида\n",
    "\n",
    "$$\n",
    "f_n (t) = (t^2 - 1)^n,\n",
    "$$\n",
    "\n",
    "продифференцировав которую, получим выражение\n",
    "\n",
    "$$\n",
    "\\begin{equation}\n",
    "\\label{eq:t21diff}\\tag{3}\n",
    "\\left(t^2 - 1\\right) f^{(1)}_n (t) -  2 n t f_n = 0,\n",
    "\\end{equation}\n",
    "$$\n",
    "\n",
    "где верхний индекс в скобках $f^{(1)}$ означает порядок производной. Нам требуется продифференцировать это выражение $n + 1$ раз. Сначала получим несколько полезных соотношений. Для любой функции $f\\left( t \\right)$ справедливо \n",
    "\n",
    "$$\n",
    "\\left( t \\cdot f\\right)^{(n)} = tf^{(n)} + nf^{(n-1)}.\n",
    "$$\n",
    "\n",
    "Это равенство можно доказать индуктивно. Очевидно, что оно выполняется для $n=0$, что приводит нас к $tf = tf$, а также для $n=1$ по правилу произведения. Продолжая таким же образом, можно получить\n",
    "\\begin{align*}\n",
    "\\left(t f\\right)^{(0)} &= tf,\\\\\n",
    "\\left(t f\\right)^{(1)} &= tf^{(1)} + f^{(0)} = tf^{(1)} + f,\\\\\n",
    "\\left(t f\\right)^{(2)} &= \\left(tf^{(1)} + f\\right)^{(1)} = tf^{(2)} + 2f^{(1)},\\\\\n",
    "\\left(t f\\right)^{(3)} &= \\left(tf^{(2)} + 2f^{(1)}\\right)^{(1)} = tf^{(3)} + 3f^{(2)},\\\\\n",
    " & \\vdots \\\\\n",
    "\\left(t f\\right)^{(n)} &= \\left(tf^{(n-1)} + (n-1)f^{(n-2)}\\right)^{(1)} = tf^{(n)} + nf^{(n-1)}.\n",
    "\\end{align*}\n",
    "\n",
    "Применим полученное соотношение к $t^2 f$:\n",
    "\n",
    "$$\n",
    "\\begin{align*}\n",
    "\\left(t^2 f\\right)^{(n)} &= \\left(t \\cdot tf\\right)^{(n)} = \n",
    "t\\left(tf\\right)^{(n)}  + n \\left(tf\\right)^{(n-1)} \\\\\n",
    "&= t \\left( tf^{(n)} + nf^{(n-1)} \\right) +\n",
    "n \\left( tf^{(n-2)} + (n-1)f^{(n-2)} \\right)\\\\\n",
    "&= t^2 f^{(n)} + 2nt f^{n-1} + n (n - 1) f^{n-2}.\n",
    "\\end{align*}\n",
    "$$\n",
    "\n",
    "Продолжая также и дальше, получим хорошо известную [формулу Лейбница](https://ru.wikipedia.org/wiki/%D0%A4%D0%BE%D1%80%D0%BC%D1%83%D0%BB%D0%B0_%D0%9B%D0%B5%D0%B9%D0%B1%D0%BD%D0%B8%D1%86%D0%B0_(%D0%BF%D1%80%D0%BE%D0%B8%D0%B7%D0%B2%D0%BE%D0%B4%D0%BD%D0%BE%D0%B9_%D0%BF%D1%80%D0%BE%D0%B8%D0%B7%D0%B2%D0%B5%D0%B4%D0%B5%D0%BD%D0%B8%D1%8F)) для вычисления $n$-й производной произведения двух функций $f(t)$ и $g(t)$\n",
    "\n",
    "\\begin{equation}\n",
    "\\label{eq:leibniz}\\tag{4}\n",
    "\\left(f\\cdot g\\right)^{(n)} = \n",
    "\\sum_{k=0}^{n} \\dfrac{n!}{k! (n - k)!} f^{(k)} g^{(n-k)}.\n",
    "\\end{equation}\n",
    "\n",
    "В частности,\n",
    "\n",
    "$$\n",
    "\\left[ \\left( t^2 - 1 \\right) f \\right]^{(n)} = \n",
    "\\left( t^2 - 1 \\right) f^{(n)} + 2nt f^{n-1} + n\\left( n - 1 \\right) f^{(n-2)}.\n",
    "$$\n",
    "\n",
    "Теперь, с помощью полученных соотношений, можем дифференцировать выражение \\eqref{eq:t21diff} $n + 1$ раз:\n",
    "\n",
    "$$\n",
    "\\begin{align*}\n",
    "\\left[(t^2 - 1) f^{(1)}_n - 2nt f\\right]^{(n + 1)} &= \\\\\n",
    "&=\\left( t^2 - 1 \\right) f^{(n+2)} + 2\\left( n + 1 \\right) t f^{n+1} + \n",
    "n\\left( n + 1 \\right) f^{(n-2)} \\\\\n",
    "&- 2nt f^{(n + 1)} - 2n \\left( n + 1 \\right) f^{(n)}\\\\\n",
    "&= \\left( t^2 - 1 \\right) f^{(n+2)} + 2t f^{(n + 1)} - \n",
    "n \\left( n + 1 \\right) f^{(n)},\n",
    "\\end{align*}\n",
    "$$\n",
    "\n",
    "откуда\n",
    "\n",
    "$$\n",
    "\\left( 1 - t^2 \\right) f^{(n + 2)} - 2tf^{(n+1)} + n\\left( n + 1 \\right) f^{(n)} = 0,\n",
    "$$\n",
    "\n",
    "что в точности совпадает с уравнением Лежандра, а значит функция \n",
    "\n",
    "$$\n",
    "f_n^{(n)} = \\dfrac{d^n}{dt^n} \\left(t^2 - 1\\right)^{n} \n",
    "$$\n",
    "\n",
    "является его решением, а стало быть, и полиномы Лежандра, выражаемые формулой Родрига. Осталось установить, откуда в последней берётся множитель $\\frac{1}{2^n \\cdot n!}$. Дело в том, что полиномы Лежандра стандартизируются под условием\n",
    "\n",
    "$$\n",
    "P_n\\left( 1 \\right) = 1.\n",
    "$$\n",
    "\n",
    "Мы могли бы сказать нормируются, вместо стандартизируются, однако под нормой мы будем понимать нечто иное, о чём будет сказано далее, а потому хотим избежать путаницы. Таким образом, нам нужно, чтобы все полиномы Лежандра от 1 были равны 1. Применим формулу Лейбница \\eqref{eq:leibniz} для полученного нами решения\n",
    "\n",
    "$$\n",
    "\\begin{align*}\n",
    "f^{(n)} &= \\left[ \\left(t^2 - 1\\right)^n \\right]^{(n)} = \n",
    "\\left[ \\left(t - 1\\right)^n \\left(t + 1\\right)^n \\right]^{(n)}\\\\\n",
    "&= \\sum_{k=0}^{n} \\dfrac{n!}{k! (n - k)!}\n",
    "\\left[ \\left(t + 1\\right)^n \\right]^{(k)}\n",
    "\\left[ \\left(t - 1\\right)^n \\right]^{(n-k)}  \\\\\n",
    "& = \\sum_{k=0}^{n} \\dfrac{n!}{k! (n - k)!}\n",
    "\\dfrac{n!}{(n - k)!} \\left(t + 1\\right)^{n-k} \\cdot\n",
    "\\dfrac{n!}{k!}\\left(t - 1\\right)^{k} \\\\\n",
    "& = n! \\sum_{k=0}^{n} \\left( \\dfrac{n!}{k! (n - k)!} \\right)^2 \n",
    "\\left(t + 1\\right)^{n-k}\\left(t - 1\\right)^{k},\\\\\n",
    "& = n! \\sum_{k=0}^{n} \\binom{n}{k}^2 \n",
    "\\left(t + 1\\right)^{n-k}\\left(t - 1\\right)^{k}\n",
    "\\end{align*}\n",
    "$$\n",
    "\n",
    "где использовано ещё одно следствие формулы Лейбница \n",
    "$\\dfrac{d^k}{d t^k} x^n = \\dfrac{n!}{\\left(n - k\\right)!} x^{(n-k)}$ и запись бинома Ньютона. \n",
    "\n",
    "При $t = 1$ все члены последовательности со смешанными произведениями при $k>0$ обратятся в нуль, то есть останётся только первый член, поэтому\n",
    "\n",
    "$$\n",
    "f^{(n)} \\left( 1 \\right) = n! \\binom{n}{0}^2 2^{n} = n! \\cdot 2^{n}.\n",
    "$$\n",
    "\n",
    "Таким образом, для того, чтобы $P_n \\left( 1 \\right) = 1$, нужно функцию $f^{(n)}$ поделить на $2^{n}\\cdot n!$, что и приводит нас к формуле Родрига \\eqref{eq:rodrigues}."
   ]
  },
  {
   "cell_type": "markdown",
   "metadata": {},
   "source": [
    "### Полиномы Лежандра первых степеней\n",
    "\n",
    "Воспользовавшись формулой Родрига, получим явный вид полиномов Лежандра первых четырёх степеней (проверьте сами!):\n",
    "\n",
    "\\begin{align}\n",
    "P_0 \\left(t\\right) &= 1, \\\\\n",
    "P_1 \\left(t\\right) &= \\dfrac{1}{2^1\\cdot 1!}\\dfrac{d}{d t} (t^2 - 1) = t, \\\\\n",
    "P_2 \\left(t\\right) &= \\dfrac{1}{2^2\\cdot 2!}\\dfrac{d^2}{d t^2} (t^2 - 1)^2 = \n",
    "\\dfrac{1}{2}\\left(3 t^2 - 1 \\right),\\\\\n",
    "P_3 \\left(t\\right) &= \\dfrac{1}{2^3\\cdot 3!}\\dfrac{d^3}{d t^3} (t^2 - 1)^3 = \n",
    "\\dfrac{1}{2}\\left(5 t^3 - 3 t\\right).\\\\\n",
    "P_4 \\left(t\\right) &= \\dfrac{1}{2^4\\cdot 4!}\\dfrac{d^4}{d t^4} (t^2 - 1)^4 = \n",
    "\\dfrac{1}{8}\\left(35 t^4 - 30 t^2 + 3\\right).\\\\\n",
    "\\end{align}\n",
    "\n",
    "Замечаем полезное свойство: сумма коэффициентов многчленов равна 1. Так можно контролировать свои вычисления."
   ]
  },
  {
   "cell_type": "markdown",
   "metadata": {},
   "source": [
    "### Рекуррентные соотношения\n",
    "\n",
    "Обычно для вычисления полиномов Лежандра используют так называемые рекуррентные соотношения. Действительно, пользоваться формулой Родрига в практических приложения неудобно, поскольку нужно вычислять производные высоких порядков, что является трудоёмкой процедурой.\n",
    "\n",
    "Рекуррентная формула означает, что каждый член последовательности может быть вычислен на основе предыдущих значений этой последовательности. Можно показать, что полиномы Лежандра удовлетворяют следующему рекуррентному соотношению\n",
    "\n",
    "$$\n",
    "\\begin{equation}\n",
    "P_{n+1} \\left(t\\right) = \\dfrac{2n + 1}{n + 1} t P_{n} \\left(t\\right) - \n",
    "\\dfrac{n}{n + 1} P_{n-1} \\left(t\\right).\n",
    "\\end{equation}\n",
    "$$\n",
    "\n",
    "Принимая за начальные условия полученные нами ранее значения \n",
    "\n",
    "$$\n",
    "P_{0} \\left(t\\right) = 1,\\ \\qquad P_{1} \\left(t\\right) = t\n",
    "$$\n",
    "\n",
    "можно последовательно получить все полиномы Лежандра до степени $n + 1$.\n",
    "\n",
    "Переставляя индексы, рекуррентное соотношение можно привести к удобному для вычислений виду\n",
    "\n",
    "$$\n",
    "\\begin{equation}\n",
    "P_{n} \\left(t\\right) = \\dfrac{2n - 1}{n} t P_{n-1} \\left(t\\right) - \n",
    "\\dfrac{n - 1}{n} P_{n-2} \\left(t\\right).\n",
    "\\end{equation}\n",
    "$$\n",
    "\n",
    "\n",
    "Для производных полиномов Лежандра также можно записать рекуррентное соотношение:\n",
    "\n",
    "$$\n",
    "P'_{n}\\left(t\\right)=\\frac{n}{1-t^2} \n",
    "\\left[P_{n-1}\\left(t\\right)-t P_n\\left(t\\right)\\right].\n",
    "$$\n",
    "\n",
    "Оно не является единственно возможным, но примечательно тем, что производные вычисляются на основе самих полиномов, а не производных предыдущих членов последовательности. Запишем ещё одно, которое нам пригодится далее:\n",
    "\n",
    "$$\n",
    "P'_{n + 1} \\left(t\\right) - P'_{n - 1} \\left(t\\right) = \n",
    "\\left( 2n + 1\\right) P_n \\left(t\\right).\n",
    "$$\n",
    "\n",
    "Здесь стоит сделать важное замечание. В геодезических приложениях могут использоваться полиномы Лежандра очень высоких степеней ($n >> 100$). И для этих случаев приведённые рекуррентные соотношения работать не будут ввиду ограничений в точности представления чисел с плавающей точкой в современных компьютерах. Применяются совершенно иные высокопроизводительные алгоритмы и разработанные на основе них библиотеки (например, [SHTOOLS](https://shtools.oca.eu)).\n",
    "\n",
    "Давайте хотя бы сравним производительность собственной простейшей реализации на чистом Python со встроенной в SciPy функции `scipy.special.lpn`, которая, как ни странно, сама тоже не подходит для приложений с высокими степенями.\n",
    "\n",
    "Итак, наша реализация на чистом Python:"
   ]
  },
  {
   "cell_type": "code",
   "execution_count": 2,
   "metadata": {},
   "outputs": [],
   "source": [
    "def lpn(n, t):\n",
    "    if not -1 <= t <= 1:\n",
    "        return ValueError('t is not -1 <= t <= 1')\n",
    "    if(n == 0): \n",
    "        return 1\n",
    "    elif(n == 1): \n",
    "        return t\n",
    "    else: \n",
    "        return ((2*n - 1) * t * lpn(n - 1, t) - (n - 1) * lpn(n - 2, t)) / n "
   ]
  },
  {
   "cell_type": "code",
   "execution_count": 3,
   "metadata": {},
   "outputs": [
    {
     "name": "stdout",
     "output_type": "stream",
     "text": [
      "CPU times: user 15.6 ms, sys: 387 µs, total: 16 ms\n",
      "Wall time: 15.6 ms\n"
     ]
    },
    {
     "data": {
      "image/png": "[encoded data removed]",
      "text/latex": [
       "$\\displaystyle -0.04835838106737356$"
      ],
      "text/plain": [
       "-0.04835838106737356"
      ]
     },
     "execution_count": 3,
     "metadata": {},
     "output_type": "execute_result"
    }
   ],
   "source": [
    "%time lpn(20, 0.5)"
   ]
  },
  {
   "cell_type": "code",
   "execution_count": 4,
   "metadata": {},
   "outputs": [
    {
     "name": "stdout",
     "output_type": "stream",
     "text": [
      "CPU times: user 138 µs, sys: 21 µs, total: 159 µs\n",
      "Wall time: 165 µs\n"
     ]
    },
    {
     "data": {
      "image/png": "[encoded data removed]",
      "text/latex": [
       "$\\displaystyle -0.04835838106737353$"
      ],
      "text/plain": [
       "-0.04835838106737353"
      ]
     },
     "execution_count": 4,
     "metadata": {},
     "output_type": "execute_result"
    }
   ],
   "source": [
    "%time special.lpn(20, 0.5)[0][-1]"
   ]
  },
  {
   "cell_type": "markdown",
   "metadata": {},
   "source": [
    "При одинаковом результате, мы получили, что функция `scipy.special.lpn` производительнее на три порядка, это ещё и при том, что она возвращает не только сами полиномы Лежандра, но и их производные. Отсюда стоит сделать простой вывод, что в подавляющем большинстве случаев собственные реализации алгоритмов работают не быстрее или не стабильнее уже реализованных в популярных библиотеках. Однако в образовательных целях собственные реализации полезны.\n",
    "\n",
    "### График и свойства полиномов Лежандра"
   ]
  },
  {
   "cell_type": "code",
   "execution_count": 5,
   "metadata": {},
   "outputs": [
    {
     "data": {
      "image/png": "[encoded data removed]",
      "text/plain": [
       "<Figure size 720x432 with 1 Axes>"
      ]
     },
     "metadata": {
      "needs_background": "light"
     },
     "output_type": "display_data"
    }
   ],
   "source": [
    "%matplotlib inline\n",
    "fig, ax = plt.subplots(1, 1, figsize=(10, 6))\n",
    "\n",
    "n_max = 4\n",
    "x = np.linspace(-1, 1)\n",
    "y = np.array([special.lpn(n_max, xi)[0]  for xi in x]).T\n",
    "\n",
    "for n, yn in enumerate(y):\n",
    "    ax.plot(x, yn, label = 'n = ' + str(n), linewidth=2)\n",
    "\n",
    "ax.legend(fontsize=14, loc=4)\n",
    "ax.set_xlabel('t', fontsize=14)\n",
    "ax.set_ylabel('$P_n (t)$', fontsize=14)\n",
    "ax.set_xlim(-1, 1)\n",
    "ax.grid()"
   ]
  },
  {
   "cell_type": "markdown",
   "metadata": {},
   "source": [
    "Из графиков мы замечаем важное свойство, что полиномы могут быть как чётной, так и нечётной функцией\n",
    "\n",
    "$$\n",
    "P_n \\left( -t \\right) = \\left( -1 \\right)^n P_n \\left( t \\right),\n",
    "$$\n",
    "\n",
    "причём, если степень $n$ чётная, то и полиномы $P_n \\left( t \\right)$  будут чётными, если степень $n$ нечётная, то и полиномы $P_n \\left( t \\right)$ будут нечётными. В частности, условие стандартизации запишется так\n",
    "\n",
    "$$\n",
    "P_n \\left( 1 \\right) = 1,\\quad P_n \\left( -1 \\right) = \\left( -1 \\right)^n.\n",
    "$$\n",
    "\n",
    "Ещё одно довольно очевидное свойство заключается в том, что уравнение вида $P_n \\left(t\\right) = 0$ имеет $n$ корней, а значит и полином степени $n$ имеет $n$ корней, то есть график функции $P_n$ пересекает ось абсцисс $n$ раз.\n",
    "\n",
    "### Свойство ортогональности и норма полиномов Лежандра\n",
    "\n",
    "**Скалярное произведение** двух функций $f$ и $g$ в области $\\Omega$ определяется формулой\n",
    "\n",
    "$$\n",
    "\\left( f, g\\right) = \\int_{\\Omega} f \\cdot g d\\Omega.\n",
    "$$\n",
    "\n",
    "Здесь очень хорошо работает аналогия с векторами. В частности, две функции $f$ и $g$ называются ортогональными в области $\\Omega$, если их скалярное произведение равно нулю, то есть\n",
    "\n",
    "$$\n",
    "\\left( f, g\\right) = \\int_{\\Omega} f \\cdot g d\\Omega = 0.\n",
    "$$\n",
    "\n",
    "Число $\\sqrt{\\left( f, f\\right)}$ называтся **нормой** функции $f$ и обозначается $\\| f\\|$. Если $\\| \\overline{f}\\| = 1$, то функцию $\\overline{f}$ называют **нормированной** в области $\\Omega$. Обратите внимание на черту сверху $\\overline{f}$, мы и дальше так будем обозначать нормированные функции.\n",
    "\n",
    "Таким образом, норма функции является аналогом длины вектора, а нормированная функция - аналог орта. Для нормированных функций\n",
    "\n",
    "$$\n",
    "\\| \\overline{f}\\|^2 = \\int_{\\Omega} \\left| \\overline{f}\\right|^2 d\\Omega = 1.\n",
    "$$\n",
    "\n",
    "Система функци $f_n$ называется ортогональной в области $\\Omega$, если функции этой системы попарно ортогональны. Если для всех $n$ функции $\\overline{f}_n$ нормированы, то и система называется нормированной. Одновременно ортогональные и нормированные системы функций называют **ортонормированными**.\n",
    "\n",
    "Итак, система ортонормирована, если для любых $n$ и $k$, где $n \\neq k$, имеем $\\left( \\overline{f}_n, \\overline{f}_k\\right) = 0$ и для любого $n$ имеем $\\left( \\overline{f}_n, \\overline{f}_n\\right) = 1$. Эти условия можно записать так:\n",
    "$$\n",
    "\\int_{\\Omega} \\overline{f}_n \\cdot \\overline{f}_k d\\Omega = \n",
    "\\begin{cases} \n",
    "0, &\\mbox{если } n \\neq k, \\\\\n",
    "1, & \\mbox{если } n = k.\n",
    "\\end{cases}\n",
    "$$\n",
    "\n",
    "Наконец, если система функций $f_n$ не является нормированной, то её можно **нормировать**, заменив каждую функцию $f_n$ функцией\n",
    "\n",
    "$$\n",
    "\\overline{f}_n = \\dfrac{f_n}{\\| f_n\\|},\n",
    "$$\n",
    "\n",
    "то есть поделив исходную функцию $f_n$ на её норму $\\| f_n\\|$.\n",
    "\n",
    "Полиномы Лежандра являются ортогональными на отрезке $\\left[-1, +1\\right]$, что записывается так\n",
    "\n",
    "$$\n",
    "\\int\\limits_{-1}^{+1}P_n \\left( t\\right) P_k \\left( t\\right) dt = 0,\\quad n\\neq k.\n",
    "$$\n",
    "\n",
    "Проверим это с помощью SymPy для полиномов степени $n = 3$ и $k = 2$. Проинтегрируем их произведение от $-1$ до $+1$:"
   ]
  },
  {
   "cell_type": "code",
   "execution_count": 6,
   "metadata": {},
   "outputs": [
    {
     "data": {
      "image/png": "[encoded data removed]",
      "text/latex": [
       "$\\displaystyle 0$"
      ],
      "text/plain": [
       "0"
      ]
     },
     "execution_count": 6,
     "metadata": {},
     "output_type": "execute_result"
    }
   ],
   "source": [
    "t = symbols('t')\n",
    "n, k = 3, 2\n",
    "integrate((legendre_poly(n, t) * legendre_poly(k, t)), (t, -1, 1))"
   ]
  },
  {
   "cell_type": "markdown",
   "metadata": {},
   "source": [
    "При $n = k$ для вычисления \n",
    "\n",
    "$$\n",
    "\\int\\limits_{-1}^{+1} P_n \\left( t\\right) P_n \\left( t\\right) dt\n",
    "$$\n",
    "\n",
    "воспользуемся интегрированием по частям $\\int udv = uv - \\int vdu$, где\n",
    "\n",
    "$$\n",
    "\\begin{align*}\n",
    "u &= P^2_n \\left( t \\right), &  du &= 2 P'_n \\left( t \\right) P_n \\left( t \\right), \\\\\n",
    "dv &= dt, & v &= t,\n",
    "\\end{align*}\n",
    "$$\n",
    "\n",
    "и получим\n",
    "\n",
    "$$\n",
    "\\begin{align*}\n",
    "\\int\\limits_{-1}^{+1} P_n \\left( t\\right) P_n \\left( t\\right) dt &=\n",
    "t P^2_n \\left( t\\right)\\ \\Bigr|_{-1}^{1} - \n",
    "2\\int\\limits_{-1}^{+1} t P_n \\left( t\\right) P'_n \\left( t\\right) dt \\\\\n",
    "&= P^2_n \\left( 1\\right) + P^2_n \\left( -1 \\right) - \n",
    "2 \\int\\limits_{-1}^{+1} t P_n \\left( t\\right) P'_{n-1} \\left( t\\right) dt -\n",
    "2n \\int\\limits_{-1}^{+1} P^2_n \\left( t\\right) dt \\\\\n",
    "& = \\dfrac{1 + 1 - 0}{2n + 1} = \\dfrac{2}{2n + 1},\n",
    "\\end{align*}\n",
    "$$\n",
    "\n",
    "где использованы свойство ортогональности, свойства $P_n \\left( 1 \\right) = 1$ и $P_n \\left( -1 \\right) = \\left( -1 \\right)^n$, а также рекуррентная формула для производной полиномов Лежандра.\n",
    "\n",
    "Таким образом, норма полиномов Лежандра равна:\n",
    "\n",
    "$$\n",
    "\\| P_n \\| = \\sqrt{\\int\\limits_{-1}^{+1} P^2_n dt} = \\sqrt{\\dfrac{2}{2n + 1}}.\n",
    "$$"
   ]
  },
  {
   "cell_type": "markdown",
   "metadata": {},
   "source": [
    "Например, норма полинома степени $n = 3$ равна $\\sqrt{\\dfrac{2}{7}} = \\dfrac{\\sqrt{14}}{7}$. Проверяем прямым интегрированием:"
   ]
  },
  {
   "cell_type": "code",
   "execution_count": 7,
   "metadata": {},
   "outputs": [
    {
     "data": {
      "image/png": "[encoded data removed]",
      "text/latex": [
       "$\\displaystyle \\frac{\\sqrt{14}}{7}$"
      ],
      "text/plain": [
       "√14\n",
       "───\n",
       " 7 "
      ]
     },
     "execution_count": 7,
     "metadata": {},
     "output_type": "execute_result"
    }
   ],
   "source": [
    "norm = sqrt(integrate((legendre_poly(3, t) * legendre_poly(3, t)), (t, -1, 1)))\n",
    "norm"
   ]
  },
  {
   "cell_type": "markdown",
   "metadata": {},
   "source": [
    "Для того, чтобы получить нормированный полином Лежандра $\\overline{P_n}$ степени $n$, необходимо ненормированный полином $P_n$ поделить на норму\n",
    "\n",
    "$$\n",
    "\\overline{P_n} = \\dfrac{P_n }{\\| P_n \\|} = \\sqrt{\\dfrac{2n+1}{2}} P_n.\n",
    "$$\n",
    "\n",
    "Для $n = 3$ нормированный полином Лежандра получается таким"
   ]
  },
  {
   "cell_type": "code",
   "execution_count": 8,
   "metadata": {},
   "outputs": [
    {
     "data": {
      "image/png": "[encoded data removed]",
      "text/latex": [
       "$\\displaystyle \\frac{\\sqrt{14} \\left(\\frac{5 t^{3}}{2} - \\frac{3 t}{2}\\right)}{2}$"
      ],
      "text/plain": [
       "    ⎛   3      ⎞\n",
       "    ⎜5⋅t    3⋅t⎟\n",
       "√14⋅⎜──── - ───⎟\n",
       "    ⎝ 2      2 ⎠\n",
       "────────────────\n",
       "       2        "
      ]
     },
     "execution_count": 8,
     "metadata": {},
     "output_type": "execute_result"
    }
   ],
   "source": [
    "legendre_normed = legendre_poly(n, t) / norm\n",
    "legendre_normed"
   ]
  },
  {
   "cell_type": "markdown",
   "metadata": {},
   "source": [
    "Проверить нормированность, следовательно, можно из выражения\n",
    "$$\n",
    "\\| \\overline{P_n} \\|^2 =  \n",
    "\\int\\limits_{-1}^{+1} \\left[\\overline{P_n} \\right]^2 dt = 1.\n",
    "$$"
   ]
  },
  {
   "cell_type": "code",
   "execution_count": 9,
   "metadata": {},
   "outputs": [
    {
     "data": {
      "image/png": "[encoded data removed]",
      "text/latex": [
       "$\\displaystyle 1$"
      ],
      "text/plain": [
       "1"
      ]
     },
     "execution_count": 9,
     "metadata": {},
     "output_type": "execute_result"
    }
   ],
   "source": [
    "(integrate(legendre_normed**2, (t, -1, 1)))"
   ]
  },
  {
   "cell_type": "markdown",
   "metadata": {},
   "source": [
    "### Норма и ортогональность на сфере"
   ]
  },
  {
   "cell_type": "markdown",
   "metadata": {},
   "source": [
    "Пользуясь выражением для квадрата нормы\n",
    "$\n",
    "\\int\\limits_{-1}^{+1} \\left[P_n \\right]^2 dt = \\dfrac{2}{2n + 1},\n",
    "$\n",
    "докажем соотношение\n",
    "\n",
    "$$\n",
    "\\iint_\\sigma \\left[P_n \\left(\\cos{\\vartheta}\\right) \\right]^2 d\\sigma = \\dfrac{4\\pi R^2}{2n + 1},\n",
    "$$\n",
    "\n",
    "где $R$ - радиус произвольной сферы.\n",
    "\n",
    "Действительно, возвращаясь к подстановке $t = \\cos{\\vartheta}$ и переходя к интегрированию по сфере произвольного радиуса $R$, то есть заменяя $d\\sigma$ на элемент поверхности сферы в сферических координатах $R^2 \\sin{\\vartheta} d\\vartheta d\\lambda$, получаем\n",
    "\n",
    "$$\n",
    "\\begin{align*}\n",
    "\\iint_\\sigma P_n \\left(\\cos{\\vartheta}\\right) P_k \\left(\\cos{\\vartheta}\\right) d\\sigma &= \n",
    "R^2 \\int\\limits_{0}^{\\pi} \\int\\limits_{0}^{2\\pi}\n",
    "P_n \\left(\\cos{\\vartheta}\\right) P_k \\left(\\cos{\\vartheta}\\right)\\sin{\\vartheta}d\\vartheta d\\lambda \\\\ &= \n",
    "2\\pi R^2 \\int\\limits_{0}^{2\\pi}\n",
    "P_n \\left(\\cos{\\vartheta}\\right) P_k \\left(\\cos{\\vartheta}\\right)\\sin{\\vartheta}d\\vartheta \\\\ &=\n",
    "2\\pi R^2 \\int\\limits_{-1}^{+1} \n",
    "P_n \\left(t\\right) P_k \\left(t\\right)  dt = \n",
    "\\begin{cases} \n",
    "\\dfrac{4\\pi R^2}{2n + 1}, &\\mbox{если } n = k, \\\\\n",
    "0, & \\mbox{если } n \\neq k.\n",
    "\\end{cases}\n",
    "\\end{align*}\n",
    "$$\n",
    "\n",
    "Таким образом, полиномы Лежандра $P_n \\left( t \\right)$ ортогональны не только на отрезке $\\left[-1,1\\right]$, но и на сфере произвольного радиуса $R$ при $t = \\cos{\\vartheta}$. А выражение $\\dfrac{4\\pi R^2}{2n + 1}$ является квадратом их нормы. Вообще говоря, интеграл\n",
    "$\n",
    "\\dfrac{1}{4\\pi R^2} \\iint_\\sigma \\left[ P_n \\left(\\cos{\\vartheta}\\right) \\right]^2 d\\sigma\n",
    "$\n",
    "выражает среднее интегральное значение полинома Лежандра на сфере. Если выбрать систему полиномов Лежандра $\\overline{P_n}$ нормированных под условием равенства единице их среднего интегрального значения на сфере (делим на площадь сферы $4\\pi R^2$), то есть \n",
    "$$\n",
    "\\dfrac{1}{4\\pi R^2} \\iint_\\sigma \\left[ \n",
    "\\overline{P_n} \\left(\\cos{\\vartheta}\\right) \\right]^2 d\\sigma = 1,\n",
    "$$\n",
    "\n",
    "то получим так называемые **полностью нормированные полиномы Лежандра** $\\overline{P_n} \\left(\\cos{\\vartheta}\\right)$. Они, следовательно, связаны с ненормированными полиномами Лежандра так\n",
    "\n",
    "$$\n",
    "\\overline{P_n} \\left(\\cos{\\vartheta}\\right) = \n",
    "\\sqrt{{2n + 1}} P_n \\left(\\cos{\\vartheta}\\right).\n",
    "$$\n",
    "\n",
    "Такой способ нормирования является наиболее распространённым в геодезических приложениях. Более того, в английском языке иногда употребляется \"geodesy normalized\", что чётко обозначает область использования. Таким образом, если перед словом \"нормированный\" и его производными стоит термин \"полностью\", то мы имеем ввиду нормирование в том смысле, в каком это получено в этом разделе."
   ]
  },
  {
   "cell_type": "markdown",
   "metadata": {},
   "source": [
    "### Разложение произвольной функции в ряд Лежандра\n",
    "\n",
    "Также, как произвольный вектор может быть разложен по ортам, то есть по ортонормированным единичным векторам, так и функция может быть разложена по системе ортонормированных функций. В частности, любая кусочно-гладкая функция может быть разложена в ряд Лежандра\n",
    "\n",
    "$$\n",
    "f \\left( t \\right) = \\sum_{n = 0}^{\\infty} a_n P_n \\left( t \\right)\n",
    "$$\n",
    "\n",
    "на отрезке $\\left[-1, +1\\right]$, где коэффициенты $a_n$ легко найти из свойства ортогональности\n",
    "\n",
    "$$\n",
    "a_n = \\dfrac{\\left( f, P_n \\right)}{\\|P_n\\|^2} = \n",
    "\\dfrac{2n + 1}{2} \\int\\limits_{-1}^{+1} f \\left( t \\right) P_n \\left( t \\right) dt.\n",
    "$$\n",
    "\n",
    "Это частный случай решения задачи аппроксимации одной функции другой функцией, как правило более простого вида. Это наиболее важное приложение специальных функций в применении их к реальным данным, когда сложные явления, описываемые функцией достаточно сложного или даже неизвестного вида, описываются более простыми и хорошо изученными функциями или их рядами.\n",
    "\n",
    "Принимая во внимание предыдущий раздел, где было показано, что полиномы Лежандра ортогональны на сфере, то нетрудно сделать вывод, что и функцию, зависимую только от $\\vartheta$ (или $\\varphi$) можно разложить в ряд полиномов Лежандра в интервале $\\left[0, \\pi \\right]$.\n",
    "\n",
    "#### Пример: функция sgn\n",
    "\n",
    "Достаточно простые и гладкие функции, типа экспоненты $e^x$ или тригонометрических функций, вполне хорошо и естественным образом раскладываются в ряд Лежандра, который в этом случае очень быстро сходится к исходной функции. Давайте разберём часто рассматриваемый, но чуть более сложный пример.\n",
    "\n",
    "Разложим функцию [sgn](https://ru.wikipedia.org/wiki/Sgn) в ряд полиномов Лежандра на интервале $\\left[-1, 1\\right]$. Функция возвращает $-1$, если её аргумент отрицательный, $+1$, если её аргумент положительный, и $0$, если её аргумент равен нулю, то есть\n",
    "\n",
    "$$\n",
    "\\text{sgn} (t) =\n",
    "\\begin{cases} \n",
    "-1, &\\mbox{если } t < 0, \\\\\n",
    "0, &\\mbox{если } t = 0, \\\\\n",
    "1, & \\mbox{если } t > 0.\n",
    "\\end{cases}\n",
    "$$\n",
    "\n",
    "Это нечётная функция, следовательно, коэффициенты при чётных членах ряда Лежандра обратятся в нуль. Пользуясь этим свойством, мы можем сократить вычисления в два раза! Произведение двух нечётных функций даёт чётную функцию, по правилу интегрирования которой можно записать теперь выражение для коэффициентов так\n",
    "\n",
    "$$\n",
    "a_n = \\left( 2n + 1 \\right) \\int_0^{1} P_n \\left( t \\right) dt.\n",
    "$$"
   ]
  },
  {
   "cell_type": "code",
   "execution_count": 10,
   "metadata": {},
   "outputs": [],
   "source": [
    "def sgn2legendre(n):\n",
    "    an = np.zeros(n + 1)\n",
    "    for n in np.arange(1, n+1, 2):\n",
    "        an[n] = (2*n + 1) * integrate(legendre_poly(n, t), (t, 0, 1))\n",
    "    return np.polynomial.Legendre(an)"
   ]
  },
  {
   "cell_type": "markdown",
   "metadata": {},
   "source": [
    "Например, члены ряда Лежандра до степени $n = 5$ имеет следующие коэффициенты:"
   ]
  },
  {
   "cell_type": "code",
   "execution_count": 11,
   "metadata": {},
   "outputs": [
    {
     "data": {
      "text/latex": [
       "$x \\mapsto \\color{LightGray}{\\text{0.0}\\,{P}_{0}(x)} + \\text{1.5}\\,{P}_{1}(x)\\color{LightGray}{ + \\text{0.0}\\,{P}_{2}(x)} - \\text{0.875}\\,{P}_{3}(x)\\color{LightGray}{ + \\text{0.0}\\,{P}_{4}(x)} + \\text{0.6875}\\,{P}_{5}(x)$"
      ],
      "text/plain": [
       "Legendre([ 0.    ,  1.5   ,  0.    , -0.875 ,  0.    ,  0.6875], domain=[-1,  1], window=[-1,  1])"
      ]
     },
     "execution_count": 11,
     "metadata": {},
     "output_type": "execute_result"
    }
   ],
   "source": [
    "sgn2legendre(5)"
   ]
  },
  {
   "cell_type": "markdown",
   "metadata": {},
   "source": [
    "Посмотрим, что происходит, когда степень увеличивается. Построим графики для $n = 1, 5, 9, 21, 51, 151$."
   ]
  },
  {
   "cell_type": "code",
   "execution_count": 12,
   "metadata": {},
   "outputs": [
    {
     "data": {
      "image/png": "[encoded data removed]",
      "text/plain": [
       "<Figure size 504x360 with 6 Axes>"
      ]
     },
     "metadata": {
      "needs_background": "light"
     },
     "output_type": "display_data"
    }
   ],
   "source": [
    "x = np.linspace(-1, 1, 100)\n",
    "y = np.sign(x)\n",
    "\n",
    "fig, axes = plt.subplots(2, 3, figsize=(7, 5),\n",
    "                         sharey=True, sharex=True)\n",
    "axes = axes.flatten()\n",
    "\n",
    "degrees = [1, 5, 9, 21, 51, 151]\n",
    "for i, n in enumerate(degrees):\n",
    "    sgn_poly = sgn2legendre(n)\n",
    "    axes[i].plot(x, y)\n",
    "    axes[i].plot(x, sgn_poly(x))\n",
    "    axes[i].set_title('n = {}'.format(n), fontsize=14)\n",
    "    axes[i].set_xlim(-1, 1)\n",
    "plt.tight_layout()"
   ]
  },
  {
   "cell_type": "markdown",
   "metadata": {},
   "source": [
    "Итак, мы пришли к следующим результатам.\n",
    "\n",
    "1. Из функции, которая имеет разрыв (первого рода) в нуле, получена непрерывная функция.\n",
    "1. Чем больше степень, тем лучше ряд Лежандра описывает исходную фукцию $\\text{sgn} (t)$.\n",
    "1. Но не идеально, потому что аппроксимация это всегда приближение.\n",
    "1. Главные особенности исходной функции проявились уже в первых двух десятках степеней $n$ ряда, однако для более точной аппроксимации нам понадобилось очень большое число членов ряда.\n",
    "1. Несмотря на это, ещё большее увеличение числа членов ряда не приводит к абсолютно точному результату.\n",
    "\n",
    "Эти выводы будут нам полезны и для рядов по сферическим и шаровым функциям, которыми мы займёмся в дальнейшем. Там выводы будут совершенно аналогичными."
   ]
  },
  {
   "cell_type": "markdown",
   "metadata": {},
   "source": [
    "## Присоединённые функции Лежандра\n",
    "\n",
    "При $m\\neq 0$ решением присоединённого уравнения Лежандра \n",
    "\n",
    "\\begin{equation*}\n",
    "\\left( 1 - t^2 \\right) \\dfrac{d^2 P_n^m (t)}{dt^2} - 2 t \\dfrac{d P_n^m (t)}{dt} + \n",
    "\\left[ n (n + 1) - \\dfrac{m^2}{1 - t^2} \\right] P_n^m (t) = 0, \n",
    "\\quad 0\\leq m \\leq n, \\quad -1 \\leq t \\leq 1\n",
    "\\end{equation*}\n",
    "\n",
    "будут присоединённые функции Лежандра $P_n^m \\left( t \\right)$, которые задаются выражением\n",
    "\n",
    "$$\n",
    "\\begin{equation}\n",
    "\\label{eq:assoclegendre} \\tag{5}\n",
    "P_n^m \\left( t \\right) = \\left( 1 - t^2 \\right)^{\\frac{m}{2}} \\dfrac{d^m}{dt^m} P_n \\left( t \\right).\n",
    "\\end{equation}\n",
    "$$\n",
    "\n",
    "Действительно, производя в присоединённом уравненнии Лежандра замену\n",
    "\n",
    "$$\n",
    "P_n^m \\left( t \\right) = \\left( 1 - t^2 \\right)^{\\frac{m}{2}} z \\left( t \\right),\n",
    "$$\n",
    "\n",
    "для функции $z$ получим уравнение\n",
    "\n",
    "$$\n",
    "\\begin{equation}\n",
    "\\label{eq:legsolution} \\tag{6}\n",
    "\\left( 1 - t^2\\right) z'' - 2t \\left( m + 1\\right) t z' + \n",
    "\\left[ n\\left( n + 1 \\right) - m \\left( m + 1 \\right) \\right] = 0.\n",
    "\\end{equation}\n",
    "$$\n",
    "\n",
    "Теперь дифференцируя обыкновенное уравнение Лежандра $m$ раз также, как мы делали это при доказательстве формулы Родрига, убеждаемся, что производная $P^{(m)}_n$ удовлетворяет \\eqref{eq:legsolution}. Следовательно, и присоединённые функции Лежандра $P_n^m$, задаваемые выражением \\eqref{eq:assoclegendre}, являются решением присоединённого уравнения Лежандра.\n",
    "\n",
    "### Присоединённые функции Лежандра первых степеней\n",
    "\n",
    "Пользуясь выражением \\eqref{eq:assoclegendre}, получим явные вид присоединённых функций Лежандра первых трёх степеней (проверьте самостоятельно!):\n",
    "\n",
    "$$\n",
    "\\begin{align*}\n",
    "P_0^0 \\left( t \\right) &= \\left( 1 - t^2 \\right)^{\\frac{0}{2}} \\dfrac{d^0}{dt^0} P_0 \\left( t \\right) = P_0 \\left( t \\right) = 1, \\\\\n",
    "P_1^0 \\left( t \\right) &= \\left( 1 - t^2 \\right)^{\\frac{0}{2}} \\dfrac{d^0}{dt^0} P_1 \\left( t \\right) = P_1 \\left( t \\right) = t, \\\\\n",
    "P_1^1 \\left( t \\right) &= \\left( 1 - t^2 \\right)^{\\frac{1}{2}} \\dfrac{d}{dt} P_1 \\left( t \\right) = \\left(1- t^2\\right)^{1/2}, \\\\\n",
    "P_2^0 \\left( t \\right) &= \\left( 1 - t^2 \\right)^{\\frac{0}{2}} \\dfrac{d^0}{dt^0} P_2 \\left( t \\right) = P_2 \\left( t \\right) = \\dfrac{1}{2}\\left(3 t^2 - 1 \\right),\\\\\n",
    "P_2^1 \\left( t \\right) &= \\left( 1 - t^2 \\right)^{\\frac{1}{2}} \\dfrac{d}{dt} P_2 \\left( t \\right) = 3t\\left(1- t^2\\right)^{1/2}, \\\\\n",
    "P_2^2 \\left( t \\right) &= \\left( 1 - t^2 \\right)^{\\frac{2}{2}} \\dfrac{d^2}{dt^2} P_n \\left( t \\right) = 3\\left(1- t^2\\right), \\\\\n",
    "P_3^0 \\left( t \\right) &= \\left( 1 - t^2 \\right)^{\\frac{0}{2}} \\dfrac{d^0}{dt^0} P_3 \\left( t \\right) = P_3 \\left( t \\right) = \\dfrac{1}{2}\\left(5 t^3 - 3 t\\right), \\\\\n",
    "P_3^1 \\left( t \\right) &= \\left( 1 - t^2 \\right)^{\\frac{1}{2}} \\dfrac{d}{dt} P_3 \\left( t \\right) = \\left(1- t^2\\right)^{1/2} \\left(\\dfrac{15}{2}t^2 - \\dfrac{3}{2}\\right),\\\\\n",
    "P_3^2 \\left( t \\right) &= \\left( 1 - t^2 \\right)^{\\frac{2}{2}} \\dfrac{d^2}{dt^2} P_3 \\left( t \\right) = 15t\\left(1- t^2\\right), \\\\\n",
    "P_3^3 \\left( t \\right) &= \\left( 1 - t^2 \\right)^{\\frac{3}{2}} \\dfrac{d^3}{dt^3} P_3 \\left( t \\right) = 15\\left(1- t^2\\right)^{3/2}. \\\\\n",
    "\\end{align*}\n",
    "$$\n",
    "\n",
    "Из этих выражений замечаем, что $P_n^0 \\left( t \\right) = P_n \\left( t \\right)$, то есть при нулевом порядке $m=0$, присоединённые функции Лежандра совпадают с полиномами Лежандра.\n",
    "\n",
    "### Рекуррентные соотношения\n",
    "\n",
    "Присоединённые функции Лежандра также удобно получить с помощью рекуррентных соотношений:\n",
    "\n",
    "$$\n",
    "\\begin{align*}\n",
    "P_{n}^n  \\left( t \\right) &= \n",
    "\\left(2n - 1\\right) \\left( 1 - t^2 \\right)^{\\frac{1}{2}} P_{n-1}^{n-1}  \\left( t \\right),\\\\\n",
    "P_{n}^m  \\left( t \\right) &= \n",
    "\\dfrac{2n - 1}{n-m} P_{n-1}^m \\left( t \\right) - \n",
    "\\dfrac{n - 1 + m}{n - m} P_{n-2}^m \\left( t \\right).\n",
    "\\end{align*}\n",
    "$$\n",
    "\n",
    "Начальные условия здесь точно такие же, как для рекуррентных формул для полиномов Лежандра, которые здесь также используются для вычислений функций при $m=0$. При этом, в формулах, когда в индексах получается $m > n$, то этот член принимается равным нулю.\n",
    "\n",
    "Для этих рекуррентных соотношение также характерно то, что они становятся численно нестабильными при высоких степенях $n$ и порядках $m$, поэтому обычно применяют другие алгоритмы."
   ]
  },
  {
   "cell_type": "code",
   "execution_count": 13,
   "metadata": {},
   "outputs": [],
   "source": [
    "def lpnm(n, m, t):\n",
    "    if not -1 <= t <= 1:\n",
    "        return ValueError('t is not -1 <= t <= 1')\n",
    "    if m == 0 and n < 2:\n",
    "        if n == 0: \n",
    "            return 1\n",
    "        elif n == 1: \n",
    "            return t\n",
    "    elif m == n:\n",
    "        return (2*n - 1) *  np.sqrt(1-t**2) * lpnm(n-1, n-1, t)\n",
    "    else:\n",
    "        if n - 1 < m:\n",
    "            return 0\n",
    "        elif n - 2 < m:\n",
    "            return (2*n - 1) * t * lpnm(n-1, m, t) / (n-m)\n",
    "        else:\n",
    "            return ((2*n - 1) * t * lpnm(n-1, m, t) - (n - 1 + m) * lpnm(n-2, m, t)) / (n-m)"
   ]
  },
  {
   "cell_type": "code",
   "execution_count": 14,
   "metadata": {},
   "outputs": [
    {
     "data": {
      "image/png": "[encoded data removed]",
      "text/latex": [
       "$\\displaystyle -30086.169706116176$"
      ],
      "text/plain": [
       "-30086.169706116176"
      ]
     },
     "execution_count": 14,
     "metadata": {},
     "output_type": "execute_result"
    }
   ],
   "source": [
    "n, m = 10, 5\n",
    "lpnm(n, m, 0.5)"
   ]
  },
  {
   "cell_type": "markdown",
   "metadata": {},
   "source": [
    "При использовании встроенной в SciPy функции нужно учитывать, что в ней присоединённые функции Лежандра умножаются на $\\left( -1 \\right)^m$, то есть\n",
    "\n",
    "$$\n",
    "P_{nm} \\left( t \\right) = \\left( -1 \\right)^m P_n^m \\left( t \\right).\n",
    "$$\n",
    "\n",
    "Это самая популярная реализация присоединённых функций в различных библиотеках для различных языков программирования, но оно отлично от используемого в геодезии. \n",
    "\n",
    "Итак, сравниваем с нашими вычислениями:"
   ]
  },
  {
   "cell_type": "code",
   "execution_count": 15,
   "metadata": {},
   "outputs": [
    {
     "data": {
      "image/png": "[encoded data removed]",
      "text/latex": [
       "$\\displaystyle -30086.16970611616$"
      ],
      "text/plain": [
       "-30086.16970611616"
      ]
     },
     "execution_count": 15,
     "metadata": {},
     "output_type": "execute_result"
    }
   ],
   "source": [
    "(-1)**m * special.lpmv(m, n, 0.5)"
   ]
  },
  {
   "cell_type": "markdown",
   "metadata": {},
   "source": [
    "### График и свойства присоединённых функций Лежандра"
   ]
  },
  {
   "cell_type": "code",
   "execution_count": 16,
   "metadata": {},
   "outputs": [
    {
     "data": {
      "image/png": "[encoded data removed]",
      "text/plain": [
       "<Figure size 720x432 with 1 Axes>"
      ]
     },
     "metadata": {
      "needs_background": "light"
     },
     "output_type": "display_data"
    }
   ],
   "source": [
    "fig, ax = plt.subplots(1, 1, figsize=(10, 6))\n",
    "linestyles = ['solid', 'dotted', 'dashed', 'dashdot']\n",
    "colors = ['b', 'g', 'r', 'm', 'm', 'y', 'k', 'w']\n",
    "\n",
    "x = np.linspace(-1, 1)\n",
    "\n",
    "n_max = 3\n",
    "for n in range(n_max + 1):\n",
    "    lnsty = linestyles[n]\n",
    "    for m in range(n + 1):\n",
    "        colors\n",
    "        y = [(-1)**m * special.lpmv(m, n, xi) for xi in x]\n",
    "        ax.plot(x, y, linestyle=linestyles[n],\n",
    "                color=colors[m], label = '', linewidth=2)\n",
    "\n",
    "ax.set_xlabel('$t$', fontsize=14)\n",
    "ax.set_ylabel('$P_{n}^m (t)$', fontsize=14)\n",
    "ax.set_xlim(-1, 1)\n",
    "\n",
    "lines = ax.get_lines()\n",
    "lines = [copy.copy(ln) for ln in lines]\n",
    "[ln.set_color('k') for ln in lines]\n",
    "\n",
    "legend1 = ax.legend([lines[i] for i in [0, 1, 3, 6]],\n",
    "                    ['$n$ = ' + str(ni) for ni in np.arange(n_max+1)],\n",
    "                    loc=(0.65, 0.05), fontsize=14)\n",
    "\n",
    "lines = ax.get_lines()\n",
    "lines = [copy.copy(ln) for ln in lines]\n",
    "[ln.set_linestyle('-') for ln in lines]\n",
    "\n",
    "legend2 = ax.legend([lines[i] for i in [0, 2, 5, 9]],\n",
    "                    ['$m$ = ' + str(ni) for ni in np.arange(n_max+1)],\n",
    "                    loc=(0.82, 0.05), fontsize=14)\n",
    "\n",
    "ax.add_artist(legend1)\n",
    "ax.add_artist(legend2)\n",
    "ax.grid()"
   ]
  },
  {
   "cell_type": "markdown",
   "metadata": {},
   "source": [
    "Из графиков и анализа можно установить некоторые свойства присоединённых функций Лежандра.\n",
    "\n",
    "1. Присоединённые функции Лежандра могут быть как чётными, так и нечётными в зависимости от степени и порядка\n",
    "$$\n",
    "P_n^m \\left( -t \\right) = \\left( -1 \\right)^{n + m} P_n^m \\left( t \\right).\n",
    "$$\n",
    "1. Функция степени $n$ и порядка $m$ имеет ровно $n - m$ нулей.\n",
    "1. При $m \\neq 0$ на границе области определения при $t = \\pm 1$ значение функции обращается в нуль, потому что мы имеем ровно $n - m + 1$ инетрвал с постоянным знаком.\n",
    "\n",
    "### Свойство ортогональности и норма"
   ]
  },
  {
   "cell_type": "markdown",
   "metadata": {},
   "source": [
    "Присоединённые функции Лежандра являются ортогональными на интервали $\\left[-1, 1\\right]$, что можно выразить двумя условиями\n",
    "\n",
    "$$\n",
    "\\begin{align*}\n",
    "\\int_{-1}^{1} P_k ^{m} P_l ^{m} dt &= 0, \\quad k\\neq l, \\\\\n",
    "\\int_{-1}^{1} P_n ^{k} P_n ^{l} dt &= 0, \\quad k\\neq l.\n",
    "\\end{align*}\n",
    "$$\n",
    "\n",
    "То есть присоединённые функции Лежандра попарно ортогональны либо при одинаковых степенях, но разных порядках, либо при одинаковых порядках, но разных степенях."
   ]
  },
  {
   "cell_type": "code",
   "execution_count": 17,
   "metadata": {},
   "outputs": [
    {
     "data": {
      "image/png": "[encoded data removed]",
      "text/latex": [
       "$\\displaystyle 0$"
      ],
      "text/plain": [
       "0"
      ]
     },
     "execution_count": 17,
     "metadata": {},
     "output_type": "execute_result"
    }
   ],
   "source": [
    "m, k, l = 3, 5, 7\n",
    "integrate(assoc_legendre(k, m, t) * assoc_legendre(l, m, t), (t, -1, 1))"
   ]
  },
  {
   "cell_type": "code",
   "execution_count": 18,
   "metadata": {},
   "outputs": [
    {
     "data": {
      "image/png": "[encoded data removed]",
      "text/latex": [
       "$\\displaystyle 0$"
      ],
      "text/plain": [
       "0"
      ]
     },
     "execution_count": 18,
     "metadata": {},
     "output_type": "execute_result"
    }
   ],
   "source": [
    "n, k, l = 3, 1, 2\n",
    "integrate(assoc_legendre(n, k, t) * assoc_legendre(n, l, t), (t, -1, 1))"
   ]
  },
  {
   "cell_type": "markdown",
   "metadata": {},
   "source": [
    "Норма присоединённых функций Лежандра будет равна\n",
    "\n",
    "$$\n",
    "\\| P_n^m \\| = \\sqrt{\\int_{-1}^{1} \\left[ P_{n}^{m} \\right]^2 dt} = \n",
    "\\sqrt{\\dfrac{2}{2n + 1} \\dfrac{\\left( n + k \\right)!}{\\left( n - k \\right)!}}.\n",
    "$$\n",
    "\n",
    "Следовательно, нормированные полиномы Лежандра связаны с ненормированными следующим соотношением\n",
    "\n",
    "$$\n",
    "\\overline{P_n^m} = \\sqrt{\\dfrac{2n + 1}{2} \\dfrac{\\left( n - k \\right)!}{\\left( n + k \\right)!}} P_n^m.\n",
    "$$\n",
    "\n",
    "Проверить, нормирована ли присоединённая функция можно так\n",
    "\n",
    "$$\n",
    "\\|\\overline{P_n^m}\\|^2 = \\int_{-1}^{1} \\left[ \\overline{P_n^m} \\right]^2 dt = 1.\n",
    "$$"
   ]
  },
  {
   "cell_type": "code",
   "execution_count": 19,
   "metadata": {},
   "outputs": [
    {
     "data": {
      "image/png": "[encoded data removed]",
      "text/latex": [
       "$\\displaystyle 1.0$"
      ],
      "text/plain": [
       "1.00000000000000"
      ]
     },
     "execution_count": 19,
     "metadata": {},
     "output_type": "execute_result"
    }
   ],
   "source": [
    "n, m = 3, 2\n",
    "integrate((sqrt(0.5*(2*n + 1) * factorial(n - m) / factorial(n + m)) \n",
    "          * assoc_legendre(3, 2, t))**2, (t, -1, 1))"
   ]
  },
  {
   "cell_type": "markdown",
   "metadata": {},
   "source": [
    "Почему удобно пользоваться нормированными полиномами и присоединёнымм функциями Лежандра? Сравниваем для $n = m = 50$ при $t = 0.5$:"
   ]
  },
  {
   "cell_type": "code",
   "execution_count": 20,
   "metadata": {},
   "outputs": [
    {
     "data": {
      "image/png": "[encoded data removed]",
      "text/latex": [
       "$\\displaystyle 2.05097602570372 \\cdot 10^{75}$"
      ],
      "text/plain": [
       "2.05097602570372e+75"
      ]
     },
     "execution_count": 20,
     "metadata": {},
     "output_type": "execute_result"
    }
   ],
   "source": [
    "m = n =50\n",
    "t = 0.5\n",
    "assoc_legendre(m, n, t)"
   ]
  },
  {
   "cell_type": "code",
   "execution_count": 21,
   "metadata": {},
   "outputs": [
    {
     "data": {
      "image/png": "[encoded data removed]",
      "text/latex": [
       "$\\displaystyle 0.0015087054026279$"
      ],
      "text/plain": [
       "0.00150870540262790"
      ]
     },
     "execution_count": 21,
     "metadata": {},
     "output_type": "execute_result"
    }
   ],
   "source": [
    "sqrt(0.5*(2*n + 1) * factorial(n - m) / factorial(n + m)) * assoc_legendre(m, n, t)"
   ]
  },
  {
   "cell_type": "markdown",
   "metadata": {},
   "source": [
    "Как видно, при увеличении степени и порядка ненормированные присоединённые функции стремительно возрастают, что во-первых, очень скоро приведёт нас к границе вычислительных способностей современных компьютеров, а во-вторых, просто неудобно. Нормированные функции этих недостатков лишены."
   ]
  }
 ],
 "metadata": {
  "kernelspec": {
   "display_name": "Python 3",
   "language": "python",
   "name": "python3"
  },
  "language_info": {
   "codemirror_mode": {
    "name": "ipython",
    "version": 3
   },
   "file_extension": ".py",
   "mimetype": "text/x-python",
   "name": "python",
   "nbconvert_exporter": "python",
   "pygments_lexer": "ipython3",
   "version": "3.8.2"
  }
 },
 "nbformat": 4,
 "nbformat_minor": 2
}
