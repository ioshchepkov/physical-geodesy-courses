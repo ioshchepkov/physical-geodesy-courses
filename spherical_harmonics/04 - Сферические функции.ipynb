{
 "cells": [
  {
   "cell_type": "markdown",
   "id": "14264146",
   "metadata": {},
   "source": [
    "# 4. Сферические функции\n",
    "\n",
    "Автор: [Илья Ощепков](https://thegeodesy.com/)"
   ]
  },
  {
   "cell_type": "code",
   "execution_count": 1,
   "id": "8f46eedd",
   "metadata": {},
   "outputs": [],
   "source": [
    "import numpy as np\n",
    "\n",
    "from sympy import *\n",
    "from sympy.abc import n, m\n",
    "\n",
    "colat = Symbol(\"theta\")\n",
    "lon = Symbol(\"lambda\")\n",
    "\n",
    "init_printing()"
   ]
  },
  {
   "cell_type": "markdown",
   "id": "0a4c4dc6",
   "metadata": {},
   "source": [
    "## Сферические функции как часть решения уравнения Лапласа\n",
    "\n",
    "Решением уравнения Лапласа  \n",
    "$$\n",
    "\\Delta f \\left( r, \\vartheta, \\lambda \\right) = \\frac{\\partial^{2} f}{\\partial r^{2}} + \n",
    "\\frac{2}{r} \\frac{\\partial f}{\\partial r} + \n",
    "\\frac{1}{r^{2}} \\frac{\\partial^{2} f}{\\partial \\vartheta^{2}}  + \n",
    "\\frac{1}{r^{2} \\tan{\\vartheta}} \\frac{\\partial f}{\\partial \\vartheta} + \n",
    "\\frac{1}{r^{2} \\sin^{2}{\\vartheta}} \\frac{\\partial^{2} f}{\\partial \\lambda^{2}} = 0\n",
    "$$\n",
    "в сферических координатах ($r, \\vartheta, \\lambda$) являются **ряды шаровых функций** вида\n",
    "\\begin{align*}\n",
    "f \\left(r, \\vartheta, \\lambda \\right) &=\n",
    "\\sum\\limits_{n=0}^{\\infty} r^{n} Y_n (\\vartheta, \\lambda)\n",
    "=\\sum\\limits_{n=0}^{\\infty} r^{n} \\sum\\limits_{m=0}^n (A_n^m \\cos{m \\lambda} + B_n^m \\sin{m \\lambda}) P_n^m (\\cos{\\vartheta}),\\\\\n",
    "f \\left(r, \\vartheta, \\lambda \\right) &= \\sum\\limits_{n=0}^{\\infty} \\dfrac{1}{r^{n+1}}  Y_n (\\vartheta, \\lambda)\n",
    "=\\sum\\limits_{n=0}^{\\infty} \\dfrac{1}{r^{n+1}} \\sum\\limits_{m=0}^n (A_n^m \\cos{m \\lambda} + B_n^m \\sin{m \\lambda}) P_n^m (\\cos{\\vartheta}).\n",
    "\\end{align*}\n",
    "\n",
    "В частности, на поверхности единичной сферы ($r = 1$), получим **ряд сферических функций**\n",
    "\\begin{align*}\n",
    "f \\left(\\vartheta, \\lambda \\right) =\n",
    "\\sum\\limits_{n=0}^{\\infty} Y_n (\\vartheta, \\lambda)\n",
    "=\\sum\\limits_{n=0}^{\\infty}\\sum\\limits_{m=0}^n (A_n^m \\cos{m \\lambda} + B_n^m \\sin{m \\lambda}) P_n^m (\\cos{\\vartheta}),\n",
    "\\end{align*}\n",
    "также известный как **ряд Лапласа**.\n",
    "\n",
    "Запись\n",
    "$$\n",
    "Y_n \\left( \\vartheta, \\lambda \\right) = \n",
    "\\sum\\limits_{m=0}^n Y_n^m \\left( \\vartheta, \\lambda \\right) =\n",
    "\\sum\\limits_{m=0}^n (A_n^m \\cos{m \\lambda} + B_n^m \\sin{m \\lambda}) P_n^m (\\cos{\\vartheta}),\n",
    "$$\n",
    "является **общим выражением для сферической функции степени $n$**. \n",
    "\n",
    "Каждый член этого выражения является **сферической функцией \n",
    "$Y_n^m \\left( \\vartheta, \\lambda \\right)$ степени $n$ и порядка $m$** вида\n",
    "$$\n",
    "Y_n^m \\left( \\vartheta, \\lambda \\right) = \n",
    "(A_n^m \\cos{m \\lambda} + B_n^m \\sin{m \\lambda}) P_n^m (\\cos{\\vartheta}),\n",
    "$$\n",
    "Легко заметить, что это линейная комбинация двух функций, каждая из которых состоит \n",
    "из произведения присоединённой функции Лежандра $P_n^m (\\cos{\\vartheta})$ \n",
    "на $\\cos{m\\lambda}$ или $\\sin{m\\lambda}$, то есть\n",
    "$$\n",
    "A_n^m P_n^m (\\cos{\\vartheta}) \\cos{m \\lambda} ,\\qquad\n",
    "B_n^m P_n^m (\\cos{\\vartheta}) \\sin{m \\lambda}.\n",
    "$$\n",
    "Функции такого вида называются **элементарными** или **основными сферическими функциями** \n",
    "степени $n$ и порядка $m$.\n",
    "\n",
    "Как мы увидим дальше, $A_n^m$ и $B_n^m$ являются числовыми коэффициентами, которые подлежат определению."
   ]
  },
  {
   "cell_type": "markdown",
   "id": "b5c3077a",
   "metadata": {},
   "source": [
    "### Явный вид сферических функций и рядов"
   ]
  },
  {
   "cell_type": "markdown",
   "id": "73a917f0",
   "metadata": {},
   "source": [
    "Для наглядности получим явный вид некоторых перечисленных выше функций и рядов для степени $n = 2$. \n",
    "\n",
    "Начнём с элементарных сферических функций."
   ]
  },
  {
   "cell_type": "code",
   "execution_count": 2,
   "id": "87d2419e",
   "metadata": {},
   "outputs": [],
   "source": [
    "def sph_harm_basic(n, m, colat, lon, cos_or_sin = 'both'):\n",
    "    lafnm = (-1)**m * assoc_legendre(n, m, cos(colat))\n",
    "    if cos_or_sin == 'cos':\n",
    "        return cos(m * lon) * lafnm\n",
    "    elif cos_or_sin == 'sin':\n",
    "        return sin(m * lon) * lafnm\n",
    "    elif cos_or_sin == 'both':\n",
    "        return simplify(cos(m * lon) * lafnm), simplify(sin(m * lon) * lafnm)"
   ]
  },
  {
   "cell_type": "markdown",
   "id": "97c46f2f",
   "metadata": {},
   "source": [
    "Для $n=2, m=1$ получим:"
   ]
  },
  {
   "cell_type": "code",
   "execution_count": null,
   "id": "208f39ca",
   "metadata": {},
   "outputs": [],
   "source": [
    "sph_harm_basic(2, 1, colat, lon, 'cos'), sph_harm_basic(2, 1, colat, lon, 'sin')"
   ]
  },
  {
   "cell_type": "markdown",
   "id": "635e55d7",
   "metadata": {},
   "source": [
    "Линейная комбинация этих слагаемых даёт нам сферическую фукцию $n=2,m=1$:"
   ]
  },
  {
   "cell_type": "code",
   "execution_count": null,
   "id": "47197c71",
   "metadata": {},
   "outputs": [],
   "source": [
    "def sph_harm(n, m, colat, lon):\n",
    "    a = Symbol(\"A_\" + str(n) + '^' + str(m))\n",
    "    b = Symbol(\"B_\" + str(n) + '^' + str(m))\n",
    "    basics = sph_harm_basic(n, m, colat, lon, 'both')\n",
    "    return a*basics[0] + b*basics[1]"
   ]
  },
  {
   "cell_type": "code",
   "execution_count": null,
   "id": "2fcf109b",
   "metadata": {},
   "outputs": [],
   "source": [
    "simplify(sph_harm(2, 1, colat, lon))"
   ]
  },
  {
   "cell_type": "markdown",
   "id": "75f3e682",
   "metadata": {},
   "source": [
    "Общее выражение для сферической функции степени $n = 2$ найдём простой суммой всех элементарных сферических фукций степени $n$:"
   ]
  },
  {
   "cell_type": "code",
   "execution_count": null,
   "id": "9d3a29aa",
   "metadata": {},
   "outputs": [],
   "source": [
    "degree = 2\n",
    "Ydegree = simplify(sum([sph_harm(degree, order, colat, lon) for order in range(0, degree+1)]))\n",
    "Ydegree"
   ]
  },
  {
   "cell_type": "markdown",
   "id": "7e506394",
   "metadata": {},
   "source": [
    "Легко заметить, что **сферическая функция степени $n$ содержит $2n + 1$ членов**. \n",
    "\n",
    "Проверяем: для $n=2$ число членов $2n + 1 = 5$. Действительно,"
   ]
  },
  {
   "cell_type": "code",
   "execution_count": null,
   "id": "781a964a",
   "metadata": {},
   "outputs": [],
   "source": [
    "len(Add.make_args(Ydegree))"
   ]
  },
  {
   "cell_type": "markdown",
   "id": "3a28d439",
   "metadata": {},
   "source": [
    "Наконец, ряд Лапласа\n",
    "\\begin{align*}\n",
    "f \\left(\\vartheta, \\lambda \\right) =\n",
    "\\sum\\limits_{n=0}^{n_{max}}\\sum\\limits_{m=0}^n (A_n^m \\cos{m \\lambda} + B_n^m \\sin{m \\lambda}) P_n^m (\\cos{\\vartheta}),\n",
    "\\end{align*}\n",
    "ограниченный максимальной степенью $n_{max} = 2$ вместо бесконечности, получим, сложив все сферические функции степени до $n = 2$ включительно:"
   ]
  },
  {
   "cell_type": "code",
   "execution_count": null,
   "id": "409b8e33",
   "metadata": {},
   "outputs": [],
   "source": [
    "laplace_series = 0\n",
    "for ni in range(0, degree+1):\n",
    "        laplace_series += sum([sph_harm(ni, order, colat, lon) for order in range(0, ni+1)])\n",
    "simplify(laplace_series)"
   ]
  },
  {
   "cell_type": "markdown",
   "id": "97b097fc",
   "metadata": {},
   "source": [
    "Усечённый маскимальной степенью $n_{max}$ **ряд Лапласа содержит $(n_{max} + 1)^2$ членов**.\n",
    "\n",
    "Это легко доказать...\n",
    "\n",
    "Проверяем: для $n_{max} = 2$ число членов $(n_{max} + 1)^2 = 9$. Действительно,"
   ]
  },
  {
   "cell_type": "code",
   "execution_count": null,
   "id": "f76de85b",
   "metadata": {},
   "outputs": [],
   "source": [
    "len(Add.make_args(laplace_series))"
   ]
  },
  {
   "cell_type": "markdown",
   "id": "b68a028b",
   "metadata": {},
   "source": [
    "### Комплексная форма записи \n",
    "\n",
    "Иная, компактная и потому часто встречающаяся, комплексная форма записи сферических функций  выглядит так\n",
    "$$\n",
    "Y_n^m = {\\rm e}^{im\\lambda} P_n^m (\\cos{\\vartheta}).\n",
    "$$\n",
    "\n",
    "Именно комплексное представление используется в SymPy в совокупности с непривычным для геодезии нормированием:"
   ]
  },
  {
   "cell_type": "code",
   "execution_count": null,
   "id": "9d7fbe45",
   "metadata": {},
   "outputs": [],
   "source": [
    "Ynm(2, 1, colat, lon).expand(func=True)"
   ]
  },
  {
   "cell_type": "markdown",
   "id": "83831152",
   "metadata": {},
   "source": [
    "Поэтому напишем денормированную версию функции SymPy"
   ]
  },
  {
   "cell_type": "code",
   "execution_count": null,
   "id": "54d391c5",
   "metadata": {},
   "outputs": [],
   "source": [
    "def spherical_harmonics(n, m, colat, lon):\n",
    "    sympy_Ynm = Ynm(n, m, colat, lon)\n",
    "    denormalizing_factor = sqrt( (4*pi * factorial(n+m)) / ( (2*n + 1) * factorial(n-m) ) )\n",
    "    return denormalizing_factor * sympy_Ynm"
   ]
  },
  {
   "cell_type": "code",
   "execution_count": null,
   "id": "58aa7330",
   "metadata": {
    "scrolled": true
   },
   "outputs": [],
   "source": [
    "spherical_harmonics(2, 1, colat, lon).expand(func=True)"
   ]
  },
  {
   "cell_type": "markdown",
   "id": "eef4cb3e",
   "metadata": {},
   "source": [
    "## Виды сферических функции"
   ]
  },
  {
   "cell_type": "markdown",
   "id": "0b659b28",
   "metadata": {},
   "source": [
    "При $m=0$ имеем **зональные гармоники**, при $n=m$ – **секториальные**, а при $n\\neq m$ – **тессеральные**.\n",
    "\n",
    "![Сферические функции](sph_harmonics_n_max_3.png)"
   ]
  },
  {
   "cell_type": "markdown",
   "id": "d8deff8e",
   "metadata": {},
   "source": [
    "## Ортогональность и норма сферических функций"
   ]
  },
  {
   "cell_type": "markdown",
   "id": "65bba4f4",
   "metadata": {},
   "source": [
    "### Ортогональность\n",
    "\n",
    "Сферические функции, как и присоединённые функции и полиномы Лежандра, образуют класс ортогональных функций. \n",
    "\n",
    "Докажем свойство ортогональности сферических функций. \n",
    "\n",
    "Возьмём две произвольные заданные внутри сферы (очевидно, что снаружи ничего не изменится) шаровые функции \n",
    "$$\n",
    "U_k^s = r^k Y_k^s  \\left( \\vartheta, \\lambda \\right), \\quad U_l^q = r^l Y_l^q  \\left( \\vartheta, \\lambda \\right),\n",
    "$$\n",
    "такие что \n",
    "$$l \\neq k \\quad\\text{или}\\quad s\\neq q\\quad\\text{или}\\quad l\\neq k \\ \\text{и}\\ s\\neq q,$$ \n",
    "то есть либо с разными степенями (и любыми порядками), либо с разными порядками (и любыми степенями), либо с разными степенями и порядками.\n",
    "\n",
    "Применим к ним вторую формулу Грина\n",
    "$$\n",
    "\\int\\limits_\\tau\\left[U_k^s\\Delta U_l^q - U_l^q\\Delta U_k^s \\right] d\\tau =\n",
    "\\int\\limits_\\sigma \\left[U_k^s \\dfrac{dU_l^q}{dn} -  U_l^q \\dfrac{dU_k^s}{dn} \\right] d\\sigma.\n",
    "$$\n",
    "Здесь слева интегрирование ведётся в объёмной области внутри сферы $\\tau$, а справа - по поверхности сферы $\\sigma$. \n",
    "\n",
    "Так как $\\Delta U_k^s = 0$ и $\\Delta U_l^q = 0$, то получим\n",
    "$$\n",
    "\\int\\limits_\\sigma \\left[U_k^s \\dfrac{dU_l^q}{dn} -  U_l^q \\dfrac{dU_k^s}{dn} \\right] d\\sigma = 0.\n",
    "$$\n",
    "\n",
    "Направление  внешней нормали $n$ к сфере совпадает с направлением $r$, поэтому\n",
    "$$\n",
    "\\int\\limits_\\sigma \\left[U_k^s \\dfrac{dU_l^q}{dr} -  U_l^q \\dfrac{dU_k^s}{dr} \\right] d\\sigma = 0.\n",
    "$$\n",
    "откуда\n",
    "$$\n",
    "\\int\\limits_\\sigma \n",
    "\\left[r^{l+k-1} l  Y_l^q \\left( \\vartheta, \\lambda \\right) Y_k^s \\left( \\vartheta, \\lambda \\right) -  \n",
    "r^{l+k-1} k Y_l^q \\left( \\vartheta, \\lambda \\right) Y_k^s \\left( \\vartheta, \\lambda \\right) \\right] d\\sigma = 0.\n",
    "$$\n",
    "\n",
    "Сокращая на $r^{l+k-1} (l - k)$, записываем\n",
    "\n",
    "$$\n",
    "\\boxed{\\int\\limits_\\sigma Y_l^q \\left( \\vartheta, \\lambda \\right) Y_k^s \\left( \\vartheta, \\lambda \\right) d\\sigma = 0}, \\quad l \\neq k \\quad\\text{или}\\quad s\\neq q\\quad\\text{или}\\quad l\\neq k \\ \\text{и}\\ s\\neq q.\n",
    "$$\n",
    "\n",
    "Мы доказали, что **сферические функции ортогональны на сфере**.\n",
    "\n",
    "Для правильности и удобства вычислений, напомним себе, что под интегралом по поверхности сферы мы понимаем следующее\n",
    "$$\n",
    "\\int\\limits_\\sigma ... d\\sigma = \n",
    "\\int_{\\vartheta = 0}^{\\pi} \\int_{\\lambda = 0}^{2\\pi} ... \\sin{\\vartheta} d\\vartheta d\\lambda,\n",
    "$$\n",
    "где $d\\sigma = \\sin{\\vartheta} d\\vartheta d\\lambda$ является элементарной площадью на поверхности единичной сферы.\n",
    "\n",
    "Проверяем ортогональность сферических функций.\n",
    "\n",
    "Для $Y_2^1$ и $Y_2^2$:"
   ]
  },
  {
   "cell_type": "code",
   "execution_count": null,
   "id": "4c1ebf3f",
   "metadata": {},
   "outputs": [],
   "source": [
    "Y21 = sph_harm(2 , 1, colat, lon)\n",
    "Y22 = sph_harm(2 , 2, colat, lon)\n",
    "simplify(integrate(Y21*Y22 * sin(colat), (colat, 0, pi), (lon, 0, 2*pi)).expand(func=True))"
   ]
  },
  {
   "cell_type": "markdown",
   "id": "75696ff9",
   "metadata": {},
   "source": [
    "Для $Y_3^2$ и $Y_2^1$:"
   ]
  },
  {
   "cell_type": "code",
   "execution_count": null,
   "id": "832678e4",
   "metadata": {},
   "outputs": [],
   "source": [
    "Y32 = sph_harm(3 , 2, colat, lon)\n",
    "Y22 = sph_harm(2 , 2, colat, lon)\n",
    "\n",
    "simplify(integrate(Y32*Y22 * sin(colat), (colat, 0, pi), (lon, 0, 2*pi)).expand(func=True))"
   ]
  },
  {
   "cell_type": "markdown",
   "id": "e597faf1",
   "metadata": {},
   "source": [
    "Для $Y_3^2$ и $Y_2^1$:"
   ]
  },
  {
   "cell_type": "code",
   "execution_count": null,
   "id": "3812c732",
   "metadata": {},
   "outputs": [],
   "source": [
    "Y32 = sph_harm(3 , 2, colat, lon)\n",
    "Y21 = sph_harm(2 , 1, colat, lon)\n",
    "simplify(integrate(Y32*Y21 * sin(colat), (colat, 0, pi), (lon, 0, 2*pi)).expand(func=True))"
   ]
  },
  {
   "cell_type": "markdown",
   "id": "9074071e",
   "metadata": {},
   "source": [
    "### Норма\n",
    "Для случая, когда степени и порядки двух сферических функций равны, получим выражение для квадрата нормы, то есть\n",
    "$$\n",
    "\\| Y_n^m \\|^2 = \\int\\limits_\\sigma \\left[ Y_n^m \\left( \\vartheta, \\lambda \\right) \\right]^2 d\\sigma = \n",
    "\\int\\limits_\\sigma \\left[ P_n^m \\left( \\cos\\vartheta \\right) \n",
    "\\begin{Bmatrix}\n",
    "\\cos{m\\lambda} \\\\\n",
    "\\sin{m\\lambda}\n",
    "\\end{Bmatrix}\n",
    "\\right]^2 d\\sigma.\n",
    "$$\n",
    "Поскольку при $m=0$ \n",
    "$$ \n",
    "P_n^m \\left( \\cos\\vartheta \\right) \\sin{m\\lambda} = 0,\\qquad\n",
    "P_n^m \\left( \\cos\\vartheta \\right) \\cos{m\\lambda} = P_n \\left( \\cos\\vartheta \\right),\n",
    "$$ \n",
    "то можно показать, что в этом случае \n",
    "$$\n",
    "\\| P_n \\left( \\cos\\vartheta \\right) \\|^2 = \\int\\limits_\\sigma \\left[P_n \\left( \\cos\\vartheta \\right)\\right]^2   d\\sigma = \\dfrac{4\\pi}{2n + 1},\n",
    "% \\int\\limits_\\sigma \\left[P_n^m \\left( \\cos\\vartheta \\right) \\cos{m\\lambda}\\right]^2 d\\sigma =\n",
    "$$\n",
    "а во всех остальных случаях\n",
    "$$\n",
    "\\left\\| P_n^m \\left( \\cos\\vartheta \\right) \n",
    "\\begin{Bmatrix}\n",
    "\\cos{m\\lambda} \\\\\n",
    "\\sin{m\\lambda}\n",
    "\\end{Bmatrix} \\right\\|^2\n",
    "= \\int\\limits_\\sigma \\left[ P_n^m \\left( \\cos\\vartheta \\right) \n",
    "\\begin{Bmatrix}\n",
    "\\cos{m\\lambda} \\\\\n",
    "\\sin{m\\lambda}\n",
    "\\end{Bmatrix}\n",
    "\\right]^2 d\\sigma = \\dfrac{2\\pi}{2n + 1}\\dfrac{(n+m)!}{(n-m)!}, \\quad m\\neq 0.\n",
    "$$\n",
    "\n",
    "Иными словами, квадрат нормы сферической функции равен\n",
    "$$\n",
    "\\| Y_n^m \\|^2 =\n",
    "\\begin{cases}\n",
    "\\dfrac{4\\pi}{2n + 1}, & m = 0, \\\\\n",
    "\\dfrac{2\\pi}{2n + 1}\\dfrac{(n+m)!}{(n-m)!}, & m\\neq 0.\n",
    "\\end{cases}\n",
    "$$"
   ]
  },
  {
   "cell_type": "code",
   "execution_count": null,
   "id": "d6b19a4e",
   "metadata": {},
   "outputs": [],
   "source": [
    "def spherical_harmonics_norm(n, m):\n",
    "    if m == 0:\n",
    "        sqnorm = 4*pi / (2*n + 1)\n",
    "    else:\n",
    "        sqnorm = 2*pi * factorial(n+m) / ((2*n + 1) * factorial(n-m))\n",
    "    return sqrt(sqnorm)"
   ]
  },
  {
   "cell_type": "markdown",
   "id": "f340a68a",
   "metadata": {},
   "source": [
    "Например, для $\\| Y_5^0 \\| = \\| P_5 (\\cos{\\vartheta}) \\| $:"
   ]
  },
  {
   "cell_type": "code",
   "execution_count": null,
   "id": "a1abaed1",
   "metadata": {},
   "outputs": [],
   "source": [
    "spherical_harmonics_norm(5, 0)"
   ]
  },
  {
   "cell_type": "markdown",
   "id": "6fed0106",
   "metadata": {},
   "source": [
    "Проверяем прямым интегрированием:"
   ]
  },
  {
   "cell_type": "code",
   "execution_count": null,
   "id": "9fac849f",
   "metadata": {},
   "outputs": [],
   "source": [
    "Y50 = sph_harm(5 , 0, colat, lon)\n",
    "simplify(sqrt(integrate(Y50**2 * sin(colat),  (lon, 0, 2*pi), (colat, 0, pi)).expand(func=True)))"
   ]
  },
  {
   "cell_type": "markdown",
   "id": "bf454920",
   "metadata": {},
   "source": [
    "Поскольку написанная нами линейная комбинация имеет постоянные коэффициенты $A_n^m$ и $B_n^m$, то норма такой функции будет равна произведению нормы элементарной сферической функции на эти коэффициенты. Это мы и получили. \n",
    "\n",
    "Для $\\| Y_2^1 \\|$ (то есть $m\\neq 0$):"
   ]
  },
  {
   "cell_type": "code",
   "execution_count": null,
   "id": "25830dda",
   "metadata": {},
   "outputs": [],
   "source": [
    "spherical_harmonics_norm(2, 1)"
   ]
  },
  {
   "cell_type": "markdown",
   "id": "4e235e5b",
   "metadata": {},
   "source": [
    "Проверяем аналогично:"
   ]
  },
  {
   "cell_type": "code",
   "execution_count": null,
   "id": "889a8ac6",
   "metadata": {},
   "outputs": [],
   "source": [
    "Y21 = sph_harm(2, 1, colat, lon)\n",
    "simplify(sqrt(integrate(Y21**2 * sin(colat), (lon, 0, 2*pi), (colat, 0, pi)).expand(func=True)))"
   ]
  },
  {
   "cell_type": "markdown",
   "id": "e4e7144d",
   "metadata": {},
   "source": [
    "## Полностью нормированные сферические функции\n",
    "\n",
    "Для разных приложений существуют разные способы нормирования сферических функций. В геодезии принято использовать так называемые полностью нормированные сферические функции.\n",
    "\n",
    "Ранее для полиномов Лежандра мы уже вводили понятие полностью нормированных функций, то есть среднее интегральное значение которых на сфере равно единице. \n",
    "\n",
    "Для сферических функций это условие запишется так\n",
    "$$\n",
    "\\boxed{\n",
    "\\dfrac{1}{4\\pi}\\int\\limits_\\sigma \\left[ \\overline{P_n^m \\left( \\cos\\vartheta \\right)\n",
    "\\begin{Bmatrix}\n",
    "\\cos{m\\lambda} \\\\\n",
    "\\sin{m\\lambda}\n",
    "\\end{Bmatrix}}\n",
    "\\right]^2 d\\sigma = 1\n",
    "}.\n",
    "$$\n",
    "То есть **квадрат нормы полностью нормированных сферических функций равен $4\\pi$**. \n",
    "\n",
    "Нормированные сферические функции образуют на сфере систему ортонормированных функций.\n",
    "\n",
    "Введём нормирующий множитель $N_n^m$, связывающий ненормированные и полностью нормированные сферические функции\n",
    "\\begin{align}\n",
    "\\overline{P_n^m \\left( \\cos\\vartheta \\right)\n",
    "\\begin{Bmatrix}\n",
    "\\cos{m\\lambda} \\\\\n",
    "\\sin{m\\lambda}\n",
    "\\end{Bmatrix}} =\n",
    "N_n^m P_n^m \\left( \\cos\\vartheta \\right)\n",
    "\\begin{Bmatrix}\n",
    "\\cos{m\\lambda} \\\\\n",
    "\\sin{m\\lambda}\n",
    "\\end{Bmatrix}.\n",
    "\\end{align}\n",
    "Тогда из выражений для нормы сферических функций легко получаем\n",
    "$$\n",
    "N_n^m =\n",
    "\\begin{cases}\n",
    "\\sqrt{2n + 1}, & m =0, \\\\\n",
    "\\sqrt{2 (2n+1) \\dfrac{(n-m)!}{(n+m)!}}, & m \\neq 0.\n",
    "\\end{cases}\n",
    "$$\n",
    "Запись последнего выражения можно упростить таким образом\n",
    "$$\n",
    "\\boxed{\n",
    "N_n^m = \\sqrt{(2 - \\delta) (2n + 1) \\dfrac{(n-m)!}{(n+m)!}},\\quad\n",
    "\\delta = \n",
    "\\begin{cases}\n",
    "1, & m = 0,\\\\\n",
    "0, & m \\neq 0. \n",
    "\\end{cases}\n",
    "}\n",
    "$$\n"
   ]
  },
  {
   "cell_type": "code",
   "execution_count": null,
   "id": "3e6808fd",
   "metadata": {},
   "outputs": [],
   "source": [
    "def normalizing_factor(n, m):\n",
    "    if m == 0:\n",
    "        delta = 1\n",
    "    else:\n",
    "        delta = 0\n",
    "    return sqrt( (2 - delta) * (2 * n + 1) * factorial(n-m) / factorial(n+m) ) "
   ]
  },
  {
   "cell_type": "markdown",
   "id": "921aec2f",
   "metadata": {},
   "source": [
    "Ненормированная сферическая функция степени $n = 2$ и порядка $m = 1$ выглядит так"
   ]
  },
  {
   "cell_type": "code",
   "execution_count": null,
   "id": "5416b5ae",
   "metadata": {},
   "outputs": [],
   "source": [
    "Y21"
   ]
  },
  {
   "cell_type": "markdown",
   "id": "177bc0b3",
   "metadata": {},
   "source": [
    "Нормирующий множитель $N_2^1$:"
   ]
  },
  {
   "cell_type": "code",
   "execution_count": null,
   "id": "a08fc9fa",
   "metadata": {},
   "outputs": [],
   "source": [
    "N21 = normalizing_factor(2, 1)\n",
    "N21"
   ]
  },
  {
   "cell_type": "markdown",
   "id": "7b386753",
   "metadata": {},
   "source": [
    "Полностью нормированная сферическая функция $\\overline{Y_2^1}$ степени $n = 2$ и порядка $m=1$ выглядит так"
   ]
  },
  {
   "cell_type": "code",
   "execution_count": null,
   "id": "4645766f",
   "metadata": {},
   "outputs": [],
   "source": [
    "Y21_fn = simplify(Y21 * N21)\n",
    "simplify(Y21_fn)"
   ]
  },
  {
   "cell_type": "markdown",
   "id": "fa7e8107",
   "metadata": {},
   "source": [
    "Проверяем квадрат нормы:"
   ]
  },
  {
   "cell_type": "code",
   "execution_count": null,
   "id": "18f31009",
   "metadata": {},
   "outputs": [],
   "source": [
    "simplify(integrate(Y21_fn**2 * sin(colat), (lon, 0, 2*pi), (colat, 0, pi)).expand(func=True))"
   ]
  },
  {
   "cell_type": "code",
   "execution_count": null,
   "id": "c5dc50eb",
   "metadata": {},
   "outputs": [],
   "source": [
    "def sph_harm_basic_fn(n, m, colat, lon, cos_or_sin = 'both'):\n",
    "    Nnm = normalizing_factor(n, m)\n",
    "    lafnm_fn = (-1)**m * assoc_legendre(n, m, cos(colat)) * Nnm\n",
    "    if cos_or_sin == 'cos':\n",
    "        return cos(m * lon) * lafnm_fn\n",
    "    elif cos_or_sin == 'sin':\n",
    "        return sin(m * lon) * lafnm_fn\n",
    "    elif cos_or_sin == 'both':\n",
    "        return cos(m * lon) * lafnm_fn, sin(m * lon) * lafnm_fn\n",
    "    \n",
    "def sph_harm_fn(n, m, colat, lon):\n",
    "    a = Symbol(\"\\overline{A}_\" + str(n) + '^' + str(m))\n",
    "    b = Symbol(\"\\overline{B}_\" + str(n) + '^' + str(m))\n",
    "    basics = sph_harm_basic_fn(n, m, colat, lon, 'both')\n",
    "    return a*basics[0] + b*basics[1]"
   ]
  },
  {
   "cell_type": "code",
   "execution_count": null,
   "id": "16b05baa",
   "metadata": {},
   "outputs": [],
   "source": [
    "simplify(sph_harm_fn(2, 1, colat, lon))"
   ]
  },
  {
   "cell_type": "markdown",
   "id": "7a2337e2",
   "metadata": {},
   "source": [
    "## Разложение функции, заданной на сфере, в ряд сферических\n",
    "\n",
    "Свойство ортогональности сферических функций делает их незаменимыми для аналитического представления физического поля, рельефа или других величин, заданных в виде карты на сферической поверхности.\n",
    "\n",
    "Пусть на поверхности единичной сферы $\\sigma$ задана функция $f \\left(\\vartheta, \\lambda \\right)$. Доказано, что любую функцию, заданную на сфере, можно разложить в ряд вида\n",
    "\\begin{align*}\n",
    "f \\left(\\vartheta, \\lambda \\right) = \\sum\\limits_{n=0}^{\\infty} Y_n \\left(\\vartheta, \\lambda \\right) =\n",
    "\\sum\\limits_{n=0}^{\\infty}\\sum\\limits_{m=0}^n (A_n^m \\cos{m \\lambda} + B_n^m \\sin{m \\lambda}) P_n^m (\\cos{\\vartheta}).\n",
    "\\end{align*}\n",
    "\n",
    "Разложить функцию в ряд сферических это значит найти коэффициенты $A_n^m$ и $B_n^m$.\n",
    "\n",
    "### Вывод формулы для коэффициентов разложения\n",
    "\n",
    "Получим формулы для этих коэффицентов, пользуясь свойством ортогональности сферических функций. \n",
    "\n",
    "Умножим последнее выражение на элементарную сферическую функцию $P_n^m \\left( \\cos\\vartheta' \\right) \\cos{m\\lambda'} $ и проинтегрируем по сфере $\\sigma$, получим\n",
    "\\begin{align*}\n",
    "\\int\\limits_{\\sigma} f \\left(\\vartheta', \\lambda' \\right) P_n^m \\left( \\cos\\vartheta' \\right) \\cos{m\\lambda'} d \\sigma = \n",
    "\\int\\limits_{\\sigma}\n",
    "\\left[ \\sum\\limits_{n=0}^{\\infty}\\sum\\limits_{m=0}^n (A_n^m \\cos{m \\lambda'} + B_n^m \\sin{m \\lambda'}) P_n^m (\\cos{\\vartheta'}) \\right]  P_n^m \\left( \\cos\\vartheta' \\right) \\cos{m\\lambda'} d \\sigma.\n",
    "\\end{align*}\n",
    "\n",
    "Здесь $\\vartheta', \\lambda'$ - сферические координаты переменной (текущей) точки. По свойству ортогоноальности, у нас останется\n",
    "\\begin{align*}\n",
    "\\int\\limits_{\\sigma} f \\left(\\vartheta', \\lambda' \\right) P_n^m \\left( \\cos\\vartheta' \\right) \\cos{m\\lambda'} d \\sigma = \n",
    "A_n^m \\int\\limits_{\\sigma} \\left[ P_n^m \\left( \\cos\\vartheta' \\right) \\cos{m\\lambda'}  \\right]^2 d\\sigma,\n",
    "\\end{align*}\n",
    "а из выражения для квадрата нормы следует\n",
    "\\begin{align*}\n",
    "\\int\\limits_{\\sigma} f \\left(\\vartheta', \\lambda' \\right) P_n^m \\left( \\cos\\vartheta' \\right) \\cos{m\\lambda'} \n",
    "d \\sigma = \\dfrac{4\\pi}{{N_n^m}^2} A_n^m,\n",
    "\\end{align*}\n",
    "откуда\n",
    "\\begin{align*}\n",
    "A_n^m = \\dfrac{1}{4\\pi} {N_n^m}^2 \\int\\limits_{\\sigma} f \\left(\\vartheta', \\lambda' \\right) P_n^m \\left( \\cos\\vartheta' \\right) \\cos{m\\lambda'} d \\sigma.\n",
    "\\end{align*}\n",
    "Формулу для коэффициента $B_n^m$ получим аналогично; в этом случае нужно начать с умножения на $P_n^m \\left( \\cos\\vartheta' \\right) \\sin{m\\lambda'} $. В результате получим\n",
    "\\begin{align*}\n",
    "B_n^m = \\dfrac{1}{4\\pi} {N_n^m}^2 \\int\\limits_{\\sigma} f \\left(\\vartheta', \\lambda' \\right) P_n^m \\left( \\cos\\vartheta' \\right) \\sin{m\\lambda'} d \\sigma.\n",
    "\\end{align*}"
   ]
  },
  {
   "cell_type": "markdown",
   "id": "bbbb6b42",
   "metadata": {},
   "source": [
    "Для полностью нормированных сферических функций полностью нормированные коэффициенты разложения можно получить аналогично\n",
    "\\begin{equation*}\n",
    "\\begin{Bmatrix}\n",
    "\\overline{A_n^m} \\\\\n",
    "\\overline{B_n^m}\n",
    "\\end{Bmatrix}\n",
    "= \\dfrac{1}{4\\pi} \\int\\limits_{\\sigma} f \\left(\\vartheta', \\lambda' \\right) \n",
    "\\overline{\n",
    "P_n^m \\left( \\cos\\vartheta' \\right) \n",
    "\\begin{Bmatrix}\n",
    "\\cos{m\\lambda'} \\\\\n",
    "\\sin{m\\lambda'}\n",
    "\\end{Bmatrix}\n",
    "}\n",
    "d \\sigma.\n",
    "\\end{equation*}\n",
    "\n",
    "Из последних трёх выражений можно получить связь между ненормированными и полностью нормированными коэффициентами разложения\n",
    "\n",
    "\\begin{equation*}\n",
    "\\begin{Bmatrix}\n",
    "\\overline{A_n^m} \\\\\n",
    "\\overline{B_n^m}\n",
    "\\end{Bmatrix} = \\dfrac{1}{N_n^m}\n",
    "\\begin{Bmatrix}\n",
    "A_n^m\\\\\n",
    "B_n^m\n",
    "\\end{Bmatrix}.\n",
    "\\end{equation*}"
   ]
  },
  {
   "cell_type": "markdown",
   "id": "5719d5a1",
   "metadata": {},
   "source": [
    "Полученные нами выражения для вычисления как ненормированных $A_n^m, B_n^m$, так и полностью нормированных $\\overline{A_n^m}, \\overline{B_n^m}$ коэффициентов на практике использовать затруднительно. \n",
    "\n",
    "Связано это с тем, что известные значения функций $f \\left( \\vartheta, \\lambda \\right)$ реальных явлений известны дискретно, то есть в конечном числе точек , а не в виде непрерывных аналитических функций, которые можно сразу интегрировать. \n",
    "\n",
    "Возможны два варианта исходных данных:\n",
    "1. Известны значения $f_i \\left(\\vartheta_i, \\lambda_i \\right)$ функции $f \\left(\\vartheta, \\lambda \\right)$ в $(N+1)^2$ или более произвольно расположенных точках на поверхности сферы. \n",
    "\n",
    "1. Известны средние $\\overline{f_i} \\left(\\vartheta_i, \\lambda_i \\right)$   значения функции на всей поверхности сферы по одинаковым по размерам трапециям $\\Delta\\vartheta \\times \\Delta\\lambda$.\n",
    "\n",
    "### Определение коэффициентов из решения линейных уравнений\n",
    "В первом случае уравнение\n",
    "\\begin{align*}\n",
    "f \\left(\\vartheta, \\lambda \\right) =\n",
    "\\sum\\limits_{n=0}^{N}\\sum\\limits_{m=0}^n (A_n^m \\cos{m \\lambda} + B_n^m \\sin{m \\lambda}) P_n^m (\\cos{\\vartheta})\n",
    "\\end{align*}\n",
    "решается под условием\n",
    "\\begin{equation}\n",
    "\\sum_i \\left( f_i - f \\right)^2 = {\\rm min}.\n",
    "\\end{equation}\n",
    "Определение коэффициентов разложения в этом случае не требует информации о функции $f \\left(\\vartheta, \\lambda \\right)$ на всей поверхности сферы. \n",
    "\n",
    "Например, ряд Лапласа степени $N = 6$ содержит $(N + 1)^2 = 49$ коэффициентов. Следовательно, для определения этих коэффициентов необходимо знать значения $f_i \\left(\\vartheta_i, \\lambda_i \\right)$  функции в 49 точках на поверхности сферы. \n",
    "\n",
    "Очевидно, что в случае, когда число точек больше минимально необходимого, то получается переопределённая задача, которая решается методом наименьших квадратов.\n",
    "\n",
    "Этот способ определения коэффициентов имеет существенный недостаток для описания реальных явлений: он не предъявляет никаких требований к равномерности покрытия исходными данными поверхности сферы. Это означает, что в зонах, где отсутствовали исходные данные («белые пятна»), аппроксимирующая функция в виде ряда Лапласа может неадекватно описывать функцию реального явления или делать это с большими ошибками.По этой причине, несмотря на простоту, этот способ определения коэффициентов практически не применяется.\n",
    "\n",
    "Для повышения достоверности определяемых коэффициентов можно учесть измерения по всей сфере и вместо точечных значений функции  $f \\left(\\vartheta, \\lambda \\right)$ использовать осреднённые на некоторой площади. Однако чаще в этом случае применяют следующий метод.\n",
    "\n",
    "### Определение коэффициентов методом численного интегрирования\n",
    "\n",
    "Во втором случае для определения коэффициентов применяется метод численного интегрирования. \n",
    "\n",
    "Пусть поверхность сферы разбита параллелями  и меридианами на $I$ сферических трапеций $\\Delta\\sigma$ (или «ячеек») с шагом $\\Delta \\vartheta$ и $\\Delta\\lambda$. \n",
    "\n",
    "В каждой такой трапеции $i$ заданы средние значения $\\overline{f_i} \\left(\\vartheta_i, \\lambda_i \\right) $ функции $f \\left(\\vartheta, \\lambda \\right)$, аналитический вид которой в общем случае неизвестен. Координаты $\\vartheta_i, \\lambda_i $ относятся к центру трапеции.\n",
    "\n",
    "Тогда, применяя правило численного интегрирования, получим формулу для вычисления полностью нормированных коэффициентов следующего вида\n",
    "\\begin{equation*}\n",
    "\\begin{Bmatrix}\n",
    "\\overline{A_n^m} \\\\\n",
    "\\overline{B_n^m}\n",
    "\\end{Bmatrix}\n",
    "= \\dfrac{1}{I} \\sum\\limits_{i=1}^{I} \\overline{f_i} \\left(\\vartheta_i, \\lambda_i \\right) \n",
    "\\left[\n",
    "\\overline{\n",
    "P_n^m \\left( \\cos\\vartheta \\right) \n",
    "\\begin{Bmatrix}\n",
    "\\cos{m\\lambda} \\\\\n",
    "\\sin{m\\lambda}\n",
    "\\end{Bmatrix}\n",
    "}\n",
    "\\right]_i\n",
    "\\Delta\\sigma_i,\n",
    "\\end{equation*}\n",
    "где\n",
    "\\begin{equation*}\n",
    "\\left[\n",
    "\\overline{\n",
    "P_n^m \\left( \\cos\\vartheta \\right) \n",
    "\\begin{Bmatrix}\n",
    "\\cos{m\\lambda} \\\\\n",
    "\\sin{m\\lambda}\n",
    "\\end{Bmatrix}\n",
    "}\n",
    "\\right]_i\n",
    "\\end{equation*}\n",
    "являются средними значениями полностью нормированных сферических функций в трапеции $i$, $\\Delta\\sigma_i$ - площадь ячейки.\n",
    "\n",
    "Главной трудностью такого способа определения коэффициентов является необходимость знания средних значений $\\overline{f_i}$ функции $f$ непрерывно **по всей поверхности сферы** $\\sigma$."
   ]
  },
  {
   "cell_type": "markdown",
   "id": "9f2efab8",
   "metadata": {},
   "source": [
    "## Применение сферических функций к решению краевых задач\n",
    "\n",
    "Краевой задачей теории потенциала называют определение гармонической функции, удовлетворяющей на границе области существования граничному или краевому условию.\n",
    "\n",
    "Если гармоническая область определяется внутри замкнутой области, краевая задача называется внутренней, если ищется гармоническая функция в бесконечной области, задача называется внешней. Решение внешней задачи должно быть регулярным на бесконечности.\n",
    "\n",
    "При постановке краевой задачи должны выполняться условия:\n",
    "- решение должно существовать;\n",
    "- решение должно быть единственным;\n",
    "- решение должно быть устойчивым.\n",
    "\n",
    "Если эти условия выполнены, то задача называется корректной или корректно поставленной.\n",
    "\n",
    "В общем случае, при произвольной форме краевой поверхности, решение краевых задач представляет сложную проблему. Однако когда в качестве краевой поверхности служит для сферы, проблема значительно упрощается.\n",
    "\n",
    "В зависимости от вида краевого условия различают три вида краевых задач теории потенциала. Далее мы сформулируем их и будем считать, что краевые условия заданы на сфере, а потому можно применить аппарат сферических функций для построения решения."
   ]
  },
  {
   "cell_type": "markdown",
   "id": "a11c8ba9",
   "metadata": {},
   "source": [
    "### Первая краевая задача (Дирихле)\n",
    "\n",
    "В процессе..."
   ]
  },
  {
   "cell_type": "markdown",
   "id": "b25388b7",
   "metadata": {},
   "source": [
    "### Вторая краевая задача (Неймана)\n",
    "\n",
    "В процессе..."
   ]
  },
  {
   "cell_type": "markdown",
   "id": "823e2227",
   "metadata": {},
   "source": [
    "### Третья краевая задача (Робена)\n",
    "\n",
    "В процессе..."
   ]
  }
 ],
 "metadata": {
  "kernelspec": {
   "display_name": "Python 3 (ipykernel)",
   "language": "python",
   "name": "python3"
  },
  "language_info": {
   "codemirror_mode": {
    "name": "ipython",
    "version": 3
   },
   "file_extension": ".py",
   "mimetype": "text/x-python",
   "name": "python",
   "nbconvert_exporter": "python",
   "pygments_lexer": "ipython3",
   "version": "3.10.9"
  }
 },
 "nbformat": 4,
 "nbformat_minor": 5
}
