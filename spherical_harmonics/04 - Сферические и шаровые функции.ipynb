{
 "cells": [
  {
   "cell_type": "markdown",
   "id": "3d899a7f",
   "metadata": {},
   "source": [
    "# 4. Сферические и шаровые функции\n",
    "\n",
    "Автор: [Илья Ощепков](https://thegeodesy.com/)\n",
    "\n",
    "\n",
    "Решением дифференциального уравнения сферических функций\n",
    "\n",
    "$$\n",
    "\\dfrac{ \\sin^{2}{\\left(\\vartheta \\right)}}{\\Theta}\\left[  \n",
    "\\frac{d^{2} \\Theta}{d \\vartheta^{2}}  + \n",
    "\\frac{1}{\\tan{\\left(\\vartheta \\right)}} \\frac{d \\Theta}{d \\vartheta} - \n",
    "\\alpha \\Theta \\sin^{2}{\\left(\\vartheta \\right)}\n",
    "\\right] +\n",
    "\\dfrac{1}{\\Lambda}\\frac{d^{2} \\Lambda}{d \\lambda^{2}} = 0\n",
    "$$\n",
    "\n"
   ]
  },
  {
   "cell_type": "code",
   "execution_count": null,
   "id": "d077d8a3",
   "metadata": {},
   "outputs": [],
   "source": []
  },
  {
   "cell_type": "markdown",
   "id": "7d7697a3",
   "metadata": {},
   "source": [
    "## Элементарные сферические функции"
   ]
  },
  {
   "cell_type": "code",
   "execution_count": null,
   "id": "05aec84e",
   "metadata": {},
   "outputs": [],
   "source": []
  },
  {
   "cell_type": "markdown",
   "id": "37a163ea",
   "metadata": {},
   "source": [
    "## Норма и ортогональность сферических функций"
   ]
  },
  {
   "cell_type": "code",
   "execution_count": null,
   "id": "e650cfa1",
   "metadata": {},
   "outputs": [],
   "source": []
  },
  {
   "cell_type": "markdown",
   "id": "564183b9",
   "metadata": {},
   "source": [
    "## Разложение заданной на сфере функции в ряд сферических"
   ]
  },
  {
   "cell_type": "code",
   "execution_count": null,
   "id": "d9ca1786",
   "metadata": {},
   "outputs": [],
   "source": []
  },
  {
   "cell_type": "markdown",
   "id": "1f67afdf",
   "metadata": {},
   "source": []
  },
  {
   "cell_type": "code",
   "execution_count": null,
   "id": "1237fd72",
   "metadata": {},
   "outputs": [],
   "source": []
  }
 ],
 "metadata": {
  "kernelspec": {
   "display_name": "Python 3 (ipykernel)",
   "language": "python",
   "name": "python3"
  },
  "language_info": {
   "codemirror_mode": {
    "name": "ipython",
    "version": 3
   },
   "file_extension": ".py",
   "mimetype": "text/x-python",
   "name": "python",
   "nbconvert_exporter": "python",
   "pygments_lexer": "ipython3",
   "version": "3.10.2"
  }
 },
 "nbformat": 4,
 "nbformat_minor": 5
}
