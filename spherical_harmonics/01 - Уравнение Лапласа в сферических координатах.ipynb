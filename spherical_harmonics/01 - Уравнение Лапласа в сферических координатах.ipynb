{
 "cells": [
  {
   "cell_type": "markdown",
   "metadata": {},
   "source": [
    "Автор: [Илья Ощепков](https://thegeodesy.com/)\n",
    "\n",
    "\n",
    "Мы переходим к рассмотрению шаровых и сферических функций, которые являются решением уравнения Лапласа в сферических координатах. Шаровые и сферические функции имеют большое значение во многих теоретических и практических приложениях, в частности в задачах расчёта электронных орбиталей в атоме, **моделировании гравитационных и магнитных полей планет** и звёзд, описания интенсивности реликтового излучения. В трёхмерной компьютерной графике эти специальные функции используются для описания трёхмерных объектов, а также различных реалистичных имитаций освещённости. Во всех этих областях приняты свои системы обозначений, способы нормирования (об этом мы поговорим позже) и формы записи сферических функций. Мы будем придерживаться обозначений, принятых в геодезии.\n",
    "\n",
    "В ходе изложения мы будем иногда использовать язык программирования Python, как для аналитических выкладок с помощью пакета [SymPy](https://www.sympy.org), так и для численных расчётов и построения графиков. Возможно, это повзолит добавить наглядности и разбавит сухие теоретические выкладки.\n",
    "\n",
    "# 1. Уравнение Лапласа в сферических координатах"
   ]
  },
  {
   "cell_type": "markdown",
   "metadata": {},
   "source": [
    "Нас интересует решение дифференциального уравнения в частных производных второго порядка вида\n",
    "$$\\Delta f = \\frac{\\partial^2 f}{\\partial x^2} + \n",
    "\\frac{\\partial^2 f}{\\partial y^2} +\n",
    "\\frac{\\partial^2 f}{\\partial z^2} = 0,$$\n",
    "которое называется уравнением Лапласа. Здесь $x, y, z$ - прямоугольные координаты, $f = f(x, y, z)$ - функция, которая удовлетворяет уравнению, то есть является его решением, $\\Delta = \\nabla^2 = \\frac{\\partial^2}{\\partial x^2} + \n",
    "\\frac{\\partial^2}{\\partial y^2} +\n",
    "\\frac{\\partial^2}{\\partial z^2}$ - оператор Лапласа (\"лапласиан\").\n",
    "\n",
    "Функции, имеющие непрерывные производные первого и второго порядков и удволетворяющие уравнению Лапласа называются **гармоническими**.\n",
    "\n",
    "В геодезических приложениях уравнение Лапласа решают либо в сферических, либо в эллипсоидальных координатах (но не геодезических!). Прежде, чем приступать к конкретному решению, сначала надо выразить лапласиан в этих координатах. Представляется удобным однако выработать некоторые общий подход к этой проблеме и ввести криволинейные координаты.\n",
    "\n",
    "## Криволинейные координаты\n",
    "\n",
    "Положение произвольной точки в трёхмерном пространстве задаётся в прямоугольных координатах $x, y, z$ её радиус-вектором\n",
    "$$\\mathbf{r} = x \\mathbf{i} + y \\mathbf{j} + z \\mathbf{k},$$\n",
    "где $(\\mathbf{i}, \\mathbf{j}, \\mathbf{k})$ - единичные базисные векторы, направленные вдоль осей декартовой системы координат.\n",
    "\n",
    "Пусть теперь заданы некие криволинейные координаты $q_1, q_2, q_3$ (пример: сферические ($r,\\vartheta, \\lambda$), геодезические ($H, B, L$)). Они однозначно связаны с прямоугольными координатами $x, y, z$ гладкими функциям $\\varphi_1, \\varphi_2, \\varphi_3$:\n",
    "\n",
    "$$ \\left\\{\\begin{matrix} x = \\varphi_1\\left(q_1,\\;q_2,\\;q_3\\right),\\\\ y = \\varphi_2\\left(q_1,\\;q_2,\\;q_3\\right), \\\\ z = \\varphi_3\\left(q_1,\\;q_2,\\;q_3\\right).\\end{matrix}\\right.$$\n",
    "\n",
    "Системы координат образуются пересекающимися **координатными поверхностями**, которые можно построить, зафиксировав одну из координат $q_i$. На пересечении координатных поверхностей находятся **координатные линии**, которые можно построить, если зафиксировать две координаты $q_i$. В общем случае координатные поверхности и линии будут кривыми, отсюда и название - **криволинейные координаты**. **Координатые оси** направлены по касательным к координатным линиям в точке пересечения координатых поверхностей. В общем случае и в отличие от декартовой системы, координатные оси криволинейной системы координат имеют разное направление в каждой точке пространства.\n",
    "\n",
    "**Пример.** Сферическая система координат образована пересечением плоскости меридиана ($\\lambda = const$), сферы ($r = const$) и бесконечного конуса ($\\vartheta = const$). Координатными линиями служат: прямая ($\\lambda=const, \\vartheta=const$, пересечение плоскости меридиана и бесконечного конуса), дуга большого круга сферы радиуса $r$ ($ r=const, \\lambda=const$, пересечение сферы и плоскости) и дуга малого круга ($r=const, \\vartheta=const$, пересечение сферы и бескоенчного конуса).\n",
    "\n",
    "Если в любой точке координатные поверхности и линии попарно ортогональны, то есть касательные к ним попарно перпендикулярны, то система координат называется **ортогональной**, если под косым углом, то - **косоугольной**. В геодезии всегда используются только ортогональные системы, поэтому будем рассматривать преимущественно их. Не стоит путать ортогональные и прямоугольные (декартовы) координаты. Последние сами являются ортогональными, а также частным случаем криволинейных. \n",
    "\n",
    "### Локальный базис и коэффициенты Ламе\n",
    "\n",
    "В декартовой системе координат базисные векторы могут быть найдены через частные производные по радиус-вектору:\n",
    "$$\n",
    "\\mathbf{i} = \\dfrac{\\partial \\mathbf{r}}{\\partial x},\\quad\n",
    "\\mathbf{j} = \\dfrac{\\partial \\mathbf{r}}{\\partial y},\\quad\n",
    "\\mathbf{k} = \\dfrac{\\partial \\mathbf{r}}{\\partial z}.\n",
    "$$\n",
    "\n",
    "Составляя аналогичные производные для криволинейной системы\n",
    "$$\n",
    "\\mathbf{h}_1 = \\dfrac{\\partial \\mathbf{r}}{\\partial q_1},\\quad\n",
    "\\mathbf{h}_2 = \\dfrac{\\partial \\mathbf{r}}{\\partial q_2},\\quad\n",
    "\\mathbf{h}_3 = \\dfrac{\\partial \\mathbf{r}}{\\partial q_3},\n",
    "$$\n",
    "получим **локальный базис** в текущей точке. В отличие от **глобального базиса**, например декартовой системы, локальный базис, как и координатные оси, имеет разное направление в каждой точке пространства. В общем случае локальный базис может не быть единичным и не быть ортогональным.\n",
    "\n",
    "Для ортогонального локального базиса, то есть для ортогональной криволинейной системы координат, можно ввести масштабные коэффициент или коэффиценты Ламе\n",
    "$$\n",
    "h_1 = |\\mathbf{h}_1|,\\quad h_2 = |\\mathbf{h}_2|,\\quad h_3 = |\\mathbf{h}_3|.\n",
    "$$\n",
    "\n",
    "То есть **коэффициентами Ламе** $h_1, h_2, h_3$, соответствующими данной ортогональной криволинейной системе координат, называются модули частных производных радиуса-вектора $\\mathbf{r}$ текущей точки по её криволинейным координатам $q_1, q_2, q_3$. В явном и пригодном для вычисления виде это можно записать следующим образом\n",
    "$$\n",
    "\\begin{align}\n",
    "h_1 &= \\left|\\dfrac{\\partial \\mathbf{r}}{\\partial q_1} \\right| =  \\sqrt{\n",
    "\\left( \\dfrac{\\partial x}{\\partial q_1}\\right)^2 +\n",
    "\\left( \\dfrac{\\partial y}{\\partial q_1}\\right)^2 +\n",
    "\\left( \\dfrac{\\partial z}{\\partial q_1}\\right)^2},\\\\\n",
    "h_2 &= \\left|\\dfrac{\\partial \\mathbf{r}}{\\partial q_2} \\right| = \\sqrt{\n",
    "\\left( \\dfrac{\\partial x}{\\partial q_2}\\right)^2 +\n",
    "\\left( \\dfrac{\\partial y}{\\partial q_2}\\right)^2 +\n",
    "\\left( \\dfrac{\\partial z}{\\partial q_2}\\right)^2},\\\\\n",
    "h_3 &= \\left|\\dfrac{\\partial \\mathbf{r}}{\\partial q_3} \\right| = \\sqrt{\n",
    "\\left( \\dfrac{\\partial x}{\\partial q_3}\\right)^2 +\n",
    "\\left( \\dfrac{\\partial y}{\\partial q_3}\\right)^2 +\n",
    "\\left( \\dfrac{\\partial z}{\\partial q_3}\\right)^2}.\n",
    "\\end{align}\n",
    "$$\n",
    "\n",
    "Через коэффициенты Ламе можно задать криволинейные ортонормированные (то есть ортогональные и единичные) базисные векторы\n",
    "$$\n",
    "\\mathbf{b}_1 = \\dfrac{\\mathbf{h}_1}{h_1},\n",
    "\\mathbf{b}_2 = \\dfrac{\\mathbf{h}_2}{h_2},\n",
    "\\mathbf{b}_3 = \\dfrac{\\mathbf{h}_3}{h_3}.\n",
    "$$\n",
    "\n",
    "### Элемент длины\n",
    "\n",
    "Пусть произвольная точка переместилась на малое расстояние радиус-вектор изменился на величину\n",
    "\n",
    "$$d \\mathbf{r} = \\mathbf{i}dx + \\mathbf{j} dy + \\mathbf{k} dz.$$\n",
    "\n",
    "В ортогональной криволинейной системе координат изменение радиус-вектора можно записать через полный дифференциал следующим образом:\n",
    "\n",
    "$$d\\mathbf{r} = \\dfrac{\\partial\\mathbf{r}}{\\partial q_1} dq_1 + \\dfrac{\\partial\\mathbf{r}}{\\partial q_2}dq_2 + \\dfrac{\\partial\\mathbf{r}}{\\partial q_3}dq_3 = h_1 dq_1 \\mathbf{b}_1 + h_2 dq_2 \\mathbf{b}_2 + h_3 dq_3 \\mathbf{b}_3 $$.\n",
    "\n",
    "Квадратом линейного элементы (элемента длины, элемента дуги) или метрикой называется скалярный квадрат $ds = d\\mathbf{r}^2 = d\\mathbf{r}\\cdot d\\mathbf{r}$ полного дифференциала $d\\mathbf{r}$ радиус-векора $\\mathbf{r}$ текущей точки\n",
    "\n",
    "$$ ds^2 = d\\mathbf{r}^2 = dx^2 + dy^2 + dz^2.$$\n",
    "\n",
    "Очевидно, что метрика инвариантна к выбору системы координат. В криволинейных координатах\n",
    "получим\n",
    "\n",
    "$$\n",
    "ds^2 = h_1^2 dq_1^2 + h_2^2 dq_2 + h_3^2 dq_3^2,\n",
    "$$\n",
    "\n",
    "где использована формула квадраты суммы трёх слагаемых\n",
    "\n",
    "$$\n",
    "(a + b +c)^2 = a^2 + b^2 + c^2 + 2ab + 2ac + 2bc,\n",
    "$$\n",
    "\n",
    "а также свойство ортогональности системы координат, для которой справедливо\n",
    "\n",
    "$$\n",
    "\\mathbf{b}_i \\cdot\\mathbf{b}_j = \n",
    "\\begin{cases}\n",
    "0,\\quad \\textrm{если}\\ i \\neq j,\\\\\n",
    "1,\\quad \\textrm{если}\\ i = j.\n",
    "\\end{cases}\n",
    "$$\n",
    "\n",
    "### Метрический тензор\n",
    "\n",
    "Из выражений для коэффициентов Ламе и квадрата линейного элемента нетрудно сделать обобщение, удобное для автоматизированных вычислений. Если образовать диагональую матрицу $g$, элементами которой будут квадраты коэффициентов Ламе $g_{ii} = h_i h_i$, то найти её можно будет так\n",
    "$$\n",
    "g = J^T J,\n",
    "$$\n",
    "где $J$ - матрица Якоби, а $J^T$ - транспонированная ей. \n",
    "\n",
    "Элементами матрицы Якоби являются частные производные $J_{ij} = \\frac{\\partial f_i}{\\partial x_j}$ или в явном виде:\n",
    "$$\n",
    "\\mathbf J = \\begin{bmatrix}\n",
    "    \\dfrac{\\partial \\mathbf{f}}{\\partial x_1} & \\cdots & \\dfrac{\\partial \\mathbf{f}}{\\partial x_n} \\end{bmatrix}\n",
    "= \\begin{bmatrix}\n",
    "    \\dfrac{\\partial f_1}{\\partial x_1} & \\cdots & \\dfrac{\\partial f_1}{\\partial x_n}\\\\\n",
    "    \\vdots & \\ddots & \\vdots\\\\\n",
    "    \\dfrac{\\partial f_m}{\\partial x_1} & \\cdots & \\dfrac{\\partial f_m}{\\partial x_n} \\end{bmatrix}.\n",
    "$$\n",
    "\n",
    "Матрица $g_{ij}$ это на самом деле не матрица, а метрический тензор, записанный в матричной форме. Тензоры это отдельный класс объектов в линейной алгебре, которые являются обобщением и скаляров, и векторов. Почему он метрический? Потому что хотя запись тензора будет меняться при изменении системы координат, некоторые свойства тензора при этом останутся неизменными.\n",
    "\n",
    "Например, элемент длины теперь выражается следующим образом\n",
    "\n",
    "$$ds^2= g_{ij}dq^i dq^j,$$\n",
    "\n",
    "где применено правило суммирования Эйнштейна, когда повторяющиеся индексы суммируются (то есть опускается знак суммы: $\\sum_{i = 1}^3 c_i x^i = c_i x^i$), для чего индексы у $q_i$ записаны сверху $q^i$."
   ]
  },
  {
   "cell_type": "markdown",
   "metadata": {},
   "source": [
    "### Лапласиан в криволинейных координатах\n",
    "\n",
    "Наконец, запишем без вывода лапласиан в криволинейных координатах:\n",
    "$$\n",
    "\\Delta f =  \\cfrac{1}{\\prod_j h_j}\\frac{\\partial }{\\partial q_i}\\left(\\cfrac{\\prod_j h_j}{h_i^2}\\frac{\\partial f}{\\partial q_i}\\right).\n",
    "$$\n",
    "Или, раскрывая знак произведения в трёхмерном пространстве, получим\n",
    "$$\n",
    "\\Delta f = \\dfrac{1}{h_1 h_2 h_3} \\left[ \n",
    "\\dfrac{\\partial}{\\partial q_1} \\left( \\dfrac{h_2 h_3}{h_1}\n",
    "\\dfrac{\\partial f}{\\partial q_1} \\right) +\n",
    "\\dfrac{\\partial}{\\partial q_2} \\left( \\dfrac{h_3 h_1}{h_1}\n",
    "\\dfrac{\\partial f}{\\partial q_1} \\right)\n",
    "\\right].\n",
    "$$\n",
    "\n",
    "Применение метрического тензора также позволяет записать лапласиан компактно\n",
    "$$\n",
    "\\Delta f = \\frac1{\\sqrt{\\det g}}\\frac{\\partial}{\\partial q^i} \\left( \\sqrt{\\det g} g^{ij}  \\frac{\\partial f}{\\partial q^j}\\right),\n",
    "$$\n",
    "где $g^{ij}$ это тензор, обратный метрическому, $\\det g$ - определитель тензора $g$."
   ]
  },
  {
   "cell_type": "markdown",
   "metadata": {},
   "source": [
    "## Сферические координаты\n",
    "\n",
    "В геодезии уравнение Лапласа чаще всего решают в сферических координатах $r, \\vartheta, \\lambda$, которые связаны с прямоугольными координатами $x, y, z$ следующими соотношениями:\n",
    "$$ %\\left\\{\\begin{matrix}\n",
    "\\begin{align}\n",
    "x &= r \\sin\\vartheta\\cos\\lambda,\\\\\n",
    "y &= r \\sin\\vartheta\\sin\\lambda,\\\\\n",
    "z &= r \\cos\\vartheta.\n",
    "\\end{align}\n",
    "%\\end{matrix}\\right.\n",
    "$$\n",
    "Здесь $r$ - радиус-вектор, $\\vartheta = 90^\\circ - \\varphi$ - полярное расстояние, являющееся дополнением геоцентрической долготы $\\varphi$ до $90^\\circ$, $\\lambda$ - геоцентрическая долгота.\n",
    "\n",
    "Обратный переход осуществляется так:\n",
    "$$\n",
    "\\begin{align}\n",
    "r &= \\sqrt{x^2 + y^2 +z^2},\\\\\n",
    "\\vartheta &= \\arctan{\\frac{\\sqrt{x^2 + y^2}}{z}},\\\\\n",
    "\\lambda &= \\arctan{\\frac{y}{x}}.\n",
    "\\end{align}\n",
    "$$\n",
    "\n",
    "Для вывода уравнения Лапласа в сферических координатах можно было бы пойти самым прямым и незамысловатым путём, то есть найти вторые производные $\\frac{\\partial^2 f}{\\partial x^2}, \\frac{\\partial^2 f}{\\partial y^2}, \\frac{\\partial^2 f}{\\partial z^2}$, пользуясь указанными выше связями прямоугольных и сферических координат. Это чрезвычайно громоздкий и тернистый путь. Можете попробовать на досуге. Мы же пойдём чуть более простой дорогой, не зря же вводили криволинейные координаты.\n",
    "\n",
    "### Лапласиан в сферических координатах"
   ]
  },
  {
   "cell_type": "code",
   "execution_count": 1,
   "metadata": {},
   "outputs": [],
   "source": [
    "import sympy as sym\n",
    "from sympy import (symbols, sin, cos, Matrix, simplify,\n",
    "                   sqrt, Function, expand, trigsimp)\n",
    "sym.init_printing()"
   ]
  },
  {
   "cell_type": "markdown",
   "metadata": {},
   "source": [
    "Задаём сферические координаты:"
   ]
  },
  {
   "cell_type": "code",
   "execution_count": 2,
   "metadata": {},
   "outputs": [
    {
     "data": {
      "image/png": "[encoded data removed]",
      "text/latex": [
       "$\\displaystyle \\left( r, \\  \\vartheta, \\  \\lambda\\right)$"
      ],
      "text/plain": [
       "(r, vartheta, λ)"
      ]
     },
     "execution_count": 2,
     "metadata": {},
     "output_type": "execute_result"
    }
   ],
   "source": [
    "r, theta, lmbda = sym.symbols('r vartheta lambda', real=True, )\n",
    "r, theta, lmbda"
   ]
  },
  {
   "cell_type": "markdown",
   "metadata": {},
   "source": [
    "И устанавливаем связь с декартовыми координатами:"
   ]
  },
  {
   "cell_type": "code",
   "execution_count": 3,
   "metadata": {},
   "outputs": [],
   "source": [
    "x = r * sin(theta) * cos(lmbda)\n",
    "y = r * sin(theta) * sin(lmbda)\n",
    "z = r * cos(theta)"
   ]
  },
  {
   "cell_type": "markdown",
   "metadata": {},
   "source": [
    "Задаем два вектора, один `D` - декартовы координаты, второй `S` - сферические координаты:"
   ]
  },
  {
   "cell_type": "code",
   "execution_count": 4,
   "metadata": {},
   "outputs": [
    {
     "data": {
      "image/png": "[encoded data removed]",
      "text/latex": [
       "$\\displaystyle \\left( \\left[ r \\sin{\\left(\\vartheta \\right)} \\cos{\\left(\\lambda \\right)}, \\  r \\sin{\\left(\\lambda \\right)} \\sin{\\left(\\vartheta \\right)}, \\  r \\cos{\\left(\\vartheta \\right)}\\right], \\  \\left[ r, \\  \\vartheta, \\  \\lambda\\right]\\right)$"
      ],
      "text/plain": [
       "([r⋅sin(vartheta)⋅cos(λ), r⋅sin(λ)⋅sin(vartheta), r⋅cos(vartheta)], [r, varthe\n",
       "ta, λ])"
      ]
     },
     "execution_count": 4,
     "metadata": {},
     "output_type": "execute_result"
    }
   ],
   "source": [
    "D = [x, y, z] \n",
    "S = [r, theta, lmbda]\n",
    "D, S"
   ]
  },
  {
   "cell_type": "markdown",
   "metadata": {},
   "source": [
    "Создаём функцию `f` сферических координат:"
   ]
  },
  {
   "cell_type": "code",
   "execution_count": 5,
   "metadata": {},
   "outputs": [
    {
     "data": {
      "image/png": "[encoded data removed]",
      "text/latex": [
       "$\\displaystyle f{\\left(r,\\vartheta,\\lambda \\right)}$"
      ],
      "text/plain": [
       "f(r, vartheta, λ)"
      ]
     },
     "execution_count": 5,
     "metadata": {},
     "output_type": "execute_result"
    }
   ],
   "source": [
    "f = sym.Function('f')\n",
    "f = f(*list(S))\n",
    "f"
   ]
  },
  {
   "cell_type": "markdown",
   "metadata": {},
   "source": [
    "Находим матрицу Якоби для функций прямоугольных координат относительно сферических координат:"
   ]
  },
  {
   "cell_type": "code",
   "execution_count": 6,
   "metadata": {},
   "outputs": [
    {
     "data": {
      "image/png": "[encoded data removed]",
      "text/latex": [
       "$\\displaystyle \\left[\\begin{matrix}\\sin{\\left(\\vartheta \\right)} \\cos{\\left(\\lambda \\right)} & r \\cos{\\left(\\lambda \\right)} \\cos{\\left(\\vartheta \\right)} & - r \\sin{\\left(\\lambda \\right)} \\sin{\\left(\\vartheta \\right)}\\\\\\sin{\\left(\\lambda \\right)} \\sin{\\left(\\vartheta \\right)} & r \\sin{\\left(\\lambda \\right)} \\cos{\\left(\\vartheta \\right)} & r \\sin{\\left(\\vartheta \\right)} \\cos{\\left(\\lambda \\right)}\\\\\\cos{\\left(\\vartheta \\right)} & - r \\sin{\\left(\\vartheta \\right)} & 0\\end{matrix}\\right]$"
      ],
      "text/plain": [
       "⎡sin(vartheta)⋅cos(λ)  r⋅cos(λ)⋅cos(vartheta)  -r⋅sin(λ)⋅sin(vartheta)⎤\n",
       "⎢                                                                     ⎥\n",
       "⎢sin(λ)⋅sin(vartheta)  r⋅sin(λ)⋅cos(vartheta)  r⋅sin(vartheta)⋅cos(λ) ⎥\n",
       "⎢                                                                     ⎥\n",
       "⎣   cos(vartheta)         -r⋅sin(vartheta)                0           ⎦"
      ]
     },
     "execution_count": 6,
     "metadata": {},
     "output_type": "execute_result"
    }
   ],
   "source": [
    "J = Matrix(D).jacobian(S)\n",
    "J"
   ]
  },
  {
   "cell_type": "markdown",
   "metadata": {},
   "source": [
    "И находим метрических тензор, диагональными элементами которого являются квадраты коэффициентов Ламе:"
   ]
  },
  {
   "cell_type": "code",
   "execution_count": 7,
   "metadata": {},
   "outputs": [
    {
     "data": {
      "image/png": "[encoded data removed]",
      "text/latex": [
       "$\\displaystyle \\left[\\begin{matrix}1 & 0 & 0\\\\0 & r^{2} & 0\\\\0 & 0 & r^{2} \\sin^{2}{\\left(\\vartheta \\right)}\\end{matrix}\\right]$"
      ],
      "text/plain": [
       "⎡1  0           0        ⎤\n",
       "⎢                        ⎥\n",
       "⎢    2                   ⎥\n",
       "⎢0  r           0        ⎥\n",
       "⎢                        ⎥\n",
       "⎢        2    2          ⎥\n",
       "⎣0  0   r ⋅sin (vartheta)⎦"
      ]
     },
     "execution_count": 7,
     "metadata": {},
     "output_type": "execute_result"
    }
   ],
   "source": [
    "g = simplify(J.T*J)\n",
    "g"
   ]
  },
  {
   "cell_type": "markdown",
   "metadata": {},
   "source": [
    "То есть коэффициентами Ламе для сферической системы координат такие:\n",
    "\n",
    "$$\n",
    "h_1 = 1,\\quad h_2 = r,\\quad h_2 = r\\sin{\\vartheta}.\n",
    "$$\n",
    "\n",
    "Находим обратный тензор:"
   ]
  },
  {
   "cell_type": "code",
   "execution_count": 8,
   "metadata": {},
   "outputs": [
    {
     "data": {
      "image/png": "[encoded data removed]",
      "text/latex": [
       "$\\displaystyle \\left[\\begin{matrix}1 & 0 & 0\\\\0 & \\frac{1}{r^{2}} & 0\\\\0 & 0 & \\frac{1}{r^{2} \\sin^{2}{\\left(\\vartheta \\right)}}\\end{matrix}\\right]$"
      ],
      "text/plain": [
       "⎡1  0           0        ⎤\n",
       "⎢                        ⎥\n",
       "⎢   1                    ⎥\n",
       "⎢0  ──          0        ⎥\n",
       "⎢    2                   ⎥\n",
       "⎢   r                    ⎥\n",
       "⎢                        ⎥\n",
       "⎢               1        ⎥\n",
       "⎢0  0   ─────────────────⎥\n",
       "⎢        2    2          ⎥\n",
       "⎣       r ⋅sin (vartheta)⎦"
      ]
     },
     "execution_count": 8,
     "metadata": {},
     "output_type": "execute_result"
    }
   ],
   "source": [
    "g_inv = g.inv(method=\"ADJ\")\n",
    "g_inv"
   ]
  },
  {
   "cell_type": "markdown",
   "metadata": {},
   "source": [
    "Определитель матрицы Якоби:"
   ]
  },
  {
   "cell_type": "code",
   "execution_count": 9,
   "metadata": {},
   "outputs": [
    {
     "data": {
      "image/png": "[encoded data removed]",
      "text/latex": [
       "$\\displaystyle r^{4} \\sin^{2}{\\left(\\vartheta \\right)}$"
      ],
      "text/plain": [
       " 4    2          \n",
       "r ⋅sin (vartheta)"
      ]
     },
     "execution_count": 9,
     "metadata": {},
     "output_type": "execute_result"
    }
   ],
   "source": [
    "g_det = g.det()\n",
    "g_det"
   ]
  },
  {
   "cell_type": "markdown",
   "metadata": {},
   "source": [
    "Наконец, находим лапласиан в сферических координатах:"
   ]
  },
  {
   "cell_type": "code",
   "execution_count": 10,
   "metadata": {},
   "outputs": [
    {
     "data": {
      "image/png": "[encoded data removed]",
      "text/latex": [
       "$\\displaystyle \\frac{\\partial^{2}}{\\partial r^{2}} f{\\left(r,\\vartheta,\\lambda \\right)} + \\frac{2 \\frac{\\partial}{\\partial r} f{\\left(r,\\vartheta,\\lambda \\right)}}{r} + \\frac{\\cos{\\left(\\vartheta \\right)} \\operatorname{sign}{\\left(\\sin{\\left(\\vartheta \\right)} \\right)} \\frac{\\partial}{\\partial \\vartheta} f{\\left(r,\\vartheta,\\lambda \\right)}}{r^{2} \\left|{\\sin{\\left(\\vartheta \\right)}}\\right|} + \\frac{\\frac{\\partial^{2}}{\\partial \\vartheta^{2}} f{\\left(r,\\vartheta,\\lambda \\right)}}{r^{2}} + \\frac{\\frac{\\partial^{2}}{\\partial \\lambda^{2}} f{\\left(r,\\vartheta,\\lambda \\right)}}{r^{2} \\sin^{2}{\\left(\\vartheta \\right)}}$"
      ],
      "text/plain": [
       "                                                                              \n",
       "                                                                              \n",
       "                           ∂                                                  \n",
       "  2                      2⋅──(f(r, vartheta, λ))   cos(vartheta)⋅sign(sin(vart\n",
       " ∂                         ∂r                                                 \n",
       "───(f(r, vartheta, λ)) + ─────────────────────── + ───────────────────────────\n",
       "  2                                 r                                     2   \n",
       "∂r                                                                       r ⋅│s\n",
       "\n",
       "                                           2                            2     \n",
       "                                          ∂                            ∂      \n",
       "           ∂                          ──────────(f(r, vartheta, λ))   ───(f(r,\n",
       "heta))⋅─────────(f(r, vartheta, λ))            2                        2     \n",
       "       ∂vartheta                      ∂vartheta                       ∂λ      \n",
       "─────────────────────────────────── + ───────────────────────────── + ────────\n",
       "                                                     2                   2    \n",
       "in(vartheta)│                                       r                   r ⋅sin\n",
       "\n",
       "              \n",
       "              \n",
       " vartheta, λ))\n",
       "              \n",
       "              \n",
       "──────────────\n",
       "2             \n",
       " (vartheta)   "
      ]
     },
     "execution_count": 10,
     "metadata": {},
     "output_type": "execute_result"
    }
   ],
   "source": [
    "lap_sph = 0\n",
    "for i in range(3):\n",
    "    for j in range(3):\n",
    "        lap_sph += (sqrt(g_det) * g_inv[i,j] * f.diff(S[j])).diff(S[i])\n",
    "lap_sph = expand(lap_sph / sqrt(g_det))\n",
    "lap_sph"
   ]
  },
  {
   "cell_type": "markdown",
   "metadata": {},
   "source": [
    "Здесь, во-первых, можно заменить знак при синусе в третьем члене, чего SymPy не смог сделать самостоятельно, во-вторых, в том же члене заменить отношение синуса и косинуса на тангенс:"
   ]
  },
  {
   "cell_type": "code",
   "execution_count": 11,
   "metadata": {},
   "outputs": [
    {
     "data": {
      "image/png": "[encoded data removed]",
      "text/latex": [
       "$\\displaystyle \\frac{\\partial^{2}}{\\partial r^{2}} f{\\left(r,\\vartheta,\\lambda \\right)} + \\frac{2 \\frac{\\partial}{\\partial r} f{\\left(r,\\vartheta,\\lambda \\right)}}{r} + \\frac{\\frac{\\partial^{2}}{\\partial \\vartheta^{2}} f{\\left(r,\\vartheta,\\lambda \\right)}}{r^{2}} + \\frac{\\frac{\\partial}{\\partial \\vartheta} f{\\left(r,\\vartheta,\\lambda \\right)}}{r^{2} \\tan{\\left(\\vartheta \\right)}} + \\frac{\\frac{\\partial^{2}}{\\partial \\lambda^{2}} f{\\left(r,\\vartheta,\\lambda \\right)}}{r^{2} \\sin^{2}{\\left(\\vartheta \\right)}}$"
      ],
      "text/plain": [
       "                                                        2                     \n",
       "                                                       ∂                      \n",
       "                           ∂                       ──────────(f(r, vartheta, λ\n",
       "  2                      2⋅──(f(r, vartheta, λ))            2                 \n",
       " ∂                         ∂r                      ∂vartheta                  \n",
       "───(f(r, vartheta, λ)) + ─────────────────────── + ───────────────────────────\n",
       "  2                                 r                             2           \n",
       "∂r                                                               r            \n",
       "\n",
       "                                      2                   \n",
       "                                     ∂                    \n",
       "))       ∂                          ───(f(r, vartheta, λ))\n",
       "     ─────────(f(r, vartheta, λ))     2                   \n",
       "     ∂vartheta                      ∂λ                    \n",
       "── + ──────────────────────────── + ──────────────────────\n",
       "            2                          2    2             \n",
       "           r ⋅tan(vartheta)           r ⋅sin (vartheta)   "
      ]
     },
     "execution_count": 11,
     "metadata": {},
     "output_type": "execute_result"
    }
   ],
   "source": [
    "lap_sph = trigsimp(lap_sph.replace(sym.Abs, sym.Id)\n",
    "                   .replace(sym.sign(sin(theta)), 1))\n",
    "lap_sph"
   ]
  },
  {
   "cell_type": "markdown",
   "metadata": {},
   "source": [
    "Таким образом, уравнение Лапласа в сферических координатах имеет вид:\n",
    "\n",
    "$$\n",
    "\\boxed{\\Delta f \\left( r, \\vartheta, \\lambda \\right) = \\frac{\\partial^{2} f}{\\partial r^{2}} + \n",
    "\\frac{2}{r} \\frac{\\partial f}{\\partial r} + \n",
    "\\frac{1}{r^{2}} \\frac{\\partial^{2} f}{\\partial \\vartheta^{2}}  + \n",
    "\\frac{1}{r^{2} \\tan{\\left(\\vartheta \\right)}} \\frac{\\partial f}{\\partial \\vartheta} + \n",
    "\\frac{1}{r^{2} \\sin^{2}{\\left(\\vartheta \\right)}} \\frac{\\partial^{2} f}{\\partial \\lambda^{2}} =0}.\n",
    "$$"
   ]
  },
  {
   "cell_type": "markdown",
   "metadata": {},
   "source": [
    "Естественно, что можно было бы и вовсе не пользоваться тензорами при выводе, а вычислить коэффициенты Ламе, пользуясь их явным выражением, приведённом выше.\n",
    "\n",
    "### Использовано:\n",
    "\n",
    "1. [sympy/examples/advanced/curvilinear_coordinates.py](https://github.com/sympy/sympy/blob/master/examples/advanced/curvilinear_coordinates.py)\n",
    "2. [Curvilinear coordinates with Python SymPy](https://balbuceosastropy.blogspot.com/2015/04/change-of-curvilinear-coordinates-with.html)\n",
    "3. [Curvilinear coordinates](https://en.wikipedia.org/wiki/Curvilinear_coordinates)"
   ]
  }
 ],
 "metadata": {
  "celltoolbar": "Raw Cell Format",
  "kernelspec": {
   "display_name": "Python 3",
   "language": "python",
   "name": "python3"
  },
  "language_info": {
   "codemirror_mode": {
    "name": "ipython",
    "version": 3
   },
   "file_extension": ".py",
   "mimetype": "text/x-python",
   "name": "python",
   "nbconvert_exporter": "python",
   "pygments_lexer": "ipython3",
   "version": "3.8.2"
  }
 },
 "nbformat": 4,
 "nbformat_minor": 2
}
